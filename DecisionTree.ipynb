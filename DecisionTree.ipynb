{
  "cells": [
    {
      "cell_type": "markdown",
      "source": [
        "# **Import library**"
      ],
      "metadata": {
        "id": "HPgT6Xds5ZJB"
      }
    },
    {
      "cell_type": "code",
      "execution_count": 19,
      "metadata": {
        "id": "iZrV6Tc5XaSy"
      },
      "outputs": [],
      "source": [
        "import pandas as pd\n",
        "from sklearn.tree import DecisionTreeClassifier, export_graphviz\n",
        "from sklearn.model_selection import train_test_split\n",
        "from sklearn.metrics import accuracy_score\n",
        "from sklearn.metrics import classification_report\n",
        "from sklearn.metrics import confusion_matrix, ConfusionMatrixDisplay\n",
        "import math\n",
        "import matplotlib.pyplot as plt\n",
        "import graphviz"
      ]
    },
    {
      "cell_type": "markdown",
      "source": [
        "# **Read csv file**"
      ],
      "metadata": {
        "id": "6orVh75K5rTS"
      }
    },
    {
      "cell_type": "code",
      "execution_count": 20,
      "metadata": {
        "colab": {
          "base_uri": "https://localhost:8080/"
        },
        "id": "yRIU5txrcQ9Y",
        "outputId": "80171481-2e4e-42bc-e16b-e80d8f2d4ff4"
      },
      "outputs": [
        {
          "output_type": "stream",
          "name": "stdout",
          "text": [
            "       # Rank  Q1    Q2  Q3  Q4  Q5  Q6  Q7   Q8   Q9  Unnamed: 11\n",
            "0      1    F   0   0.0   0   0   2   6   0  6.4  6.4          NaN\n",
            "1      2    F   0   4.0   0   0   2   5   0  6.4  2.7          NaN\n",
            "2      3    P   3   8.0   5   4   3   9   4  8.6  6.4          NaN\n",
            "3      4    P   0  10.0   0   1   0   7   4  7.9  9.1          NaN\n",
            "4      5    F   0   6.0   7   0   3   0   2  5.7  5.5          NaN\n",
            "..   ...  ...  ..   ...  ..  ..  ..  ..  ..  ...  ...          ...\n",
            "262  263    F   0   4.1   7   1   5   6   0  0.0  9.1          NaN\n",
            "263  264    P   3   6.0   7   2   2   0   0  5.0  0.0          NaN\n",
            "264  265    P   4   8.0   0   2   5   9   4  9.3  7.3          NaN\n",
            "265  266    P   1   0.0   1   0   1  10   0  0.0  0.0          NaN\n",
            "266  267    F   2   4.0   6   1   3   8   4  5.7  7.3          NaN\n",
            "\n",
            "[267 rows x 12 columns]\n"
          ]
        }
      ],
      "source": [
        "df = pd.read_csv('dt_data.csv')\n",
        "print(df)"
      ]
    },
    {
      "cell_type": "markdown",
      "source": [
        "# **Clean data - Remove NaN column**"
      ],
      "metadata": {
        "id": "nIu-TSSb34Bq"
      }
    },
    {
      "cell_type": "code",
      "source": [
        "df.drop('Unnamed: 11', axis=1, inplace=True)\n",
        "print(df)"
      ],
      "metadata": {
        "colab": {
          "base_uri": "https://localhost:8080/"
        },
        "id": "4ViWLoRO3av_",
        "outputId": "c445ad31-2446-4c40-86e4-76ae0ffa4b9a"
      },
      "execution_count": 21,
      "outputs": [
        {
          "output_type": "stream",
          "name": "stdout",
          "text": [
            "       # Rank  Q1    Q2  Q3  Q4  Q5  Q6  Q7   Q8   Q9\n",
            "0      1    F   0   0.0   0   0   2   6   0  6.4  6.4\n",
            "1      2    F   0   4.0   0   0   2   5   0  6.4  2.7\n",
            "2      3    P   3   8.0   5   4   3   9   4  8.6  6.4\n",
            "3      4    P   0  10.0   0   1   0   7   4  7.9  9.1\n",
            "4      5    F   0   6.0   7   0   3   0   2  5.7  5.5\n",
            "..   ...  ...  ..   ...  ..  ..  ..  ..  ..  ...  ...\n",
            "262  263    F   0   4.1   7   1   5   6   0  0.0  9.1\n",
            "263  264    P   3   6.0   7   2   2   0   0  5.0  0.0\n",
            "264  265    P   4   8.0   0   2   5   9   4  9.3  7.3\n",
            "265  266    P   1   0.0   1   0   1  10   0  0.0  0.0\n",
            "266  267    F   2   4.0   6   1   3   8   4  5.7  7.3\n",
            "\n",
            "[267 rows x 11 columns]\n"
          ]
        }
      ]
    },
    {
      "cell_type": "markdown",
      "source": [
        "# **Define entropy function**"
      ],
      "metadata": {
        "id": "SSA6s3mv5zrl"
      }
    },
    {
      "cell_type": "code",
      "execution_count": 22,
      "metadata": {
        "id": "52NiVV1Oo4UI"
      },
      "outputs": [],
      "source": [
        "def getEntropy(Q):\n",
        "  Q_col = df[Q]\n",
        "  Q_unique = Q_col.unique()\n",
        "  entropy_Q = 0\n",
        "\n",
        "  for ele in Q_unique:\n",
        "    occurrences = Q_col.value_counts()[ele]\n",
        "    p = occurrences / len(Q_col)\n",
        "    entropy_Q += -p * math.log2(p)\n",
        "  return entropy_Q"
      ]
    },
    {
      "cell_type": "code",
      "execution_count": 23,
      "metadata": {
        "colab": {
          "base_uri": "https://localhost:8080/"
        },
        "id": "smEOEjsnzvnK",
        "outputId": "0bc265b3-72f1-4cd9-cc23-c1d052567c08"
      },
      "outputs": [
        {
          "output_type": "stream",
          "name": "stdout",
          "text": [
            "Entropy(Rank) = 0.9219957030944406\n",
            "Entropy(Q1) = 2.5248962387450886\n",
            "Entropy(Q2) = 4.132418142909147\n",
            "Entropy(Q3) = 3.13737672780893\n",
            "Entropy(Q4) = 2.9241869100202065\n",
            "Entropy(Q5) = 3.01657876376289\n",
            "Entropy(Q6) = 3.2029458689261694\n",
            "Entropy(Q7) = 2.090453638138469\n",
            "Entropy(Q8) = 3.4967234560100016\n",
            "Entropy(Q9) = 3.2293908096090562\n"
          ]
        }
      ],
      "source": [
        "for ele in ['Rank', 'Q1', 'Q2', 'Q3', 'Q4', 'Q5', 'Q6', 'Q7', 'Q8', 'Q9']:\n",
        "  entropy_Q = getEntropy(ele)\n",
        "  print(f\"Entropy({ele}) =\", entropy_Q)"
      ]
    },
    {
      "cell_type": "markdown",
      "source": [
        "# **Define average entropy function**"
      ],
      "metadata": {
        "id": "3wWSgC2_6GCC"
      }
    },
    {
      "cell_type": "code",
      "execution_count": 24,
      "metadata": {
        "colab": {
          "base_uri": "https://localhost:8080/"
        },
        "id": "ahW7Ll0pBl2I",
        "outputId": "05aa8b03-513d-4dd1-c167-891f64559ae1"
      },
      "outputs": [
        {
          "output_type": "stream",
          "name": "stdout",
          "text": [
            "Average Entropy(Q1) = 0.8643297071195146\n",
            "Average Entropy(Q2) = 0.7616877890146895\n",
            "Average Entropy(Q3) = 0.8462490281191665\n",
            "Average Entropy(Q4) = 0.8243858908254258\n",
            "Average Entropy(Q5) = 0.8487139346584045\n",
            "Average Entropy(Q6) = 0.8144066635679746\n",
            "Average Entropy(Q7) = 0.8150839597380262\n",
            "Average Entropy(Q8) = 0.8279549628604717\n",
            "Average Entropy(Q9) = 0.7877624431803373\n"
          ]
        }
      ],
      "source": [
        "def getEntropyHelper (Q, attr, attr_length):\n",
        "  data = df[df[Q] == attr]\n",
        "  rank_col = data['Rank']\n",
        "  rank_unique = rank_col.unique()\n",
        "  H = 0\n",
        "\n",
        "  for ele in rank_unique:\n",
        "    occurrences = rank_col.value_counts()[ele]\n",
        "    p = occurrences / attr_length\n",
        "    H += - p * math.log2(p)\n",
        "  return H\n",
        "\n",
        "def getAvgEntropy(Q):\n",
        "  Q_col = df[Q]\n",
        "  Q_unique = Q_col.unique()\n",
        "  AE = 0\n",
        "\n",
        "  for ele in Q_unique:\n",
        "    occurrences = Q_col.value_counts()[ele]\n",
        "    p = occurrences / len(Q_col)\n",
        "    H = getEntropyHelper(Q, ele, occurrences)\n",
        "    AE += p * H\n",
        "  return AE\n",
        "\n",
        "for ele in ['Q1', 'Q2', 'Q3', 'Q4', 'Q5', 'Q6', 'Q7', 'Q8', 'Q9']:\n",
        "  avgEntropy_Q = getAvgEntropy(ele)\n",
        "  print(f\"Average Entropy({ele}) =\", avgEntropy_Q)"
      ]
    },
    {
      "cell_type": "markdown",
      "source": [
        "# **Define information gain function**"
      ],
      "metadata": {
        "id": "z-ppW2xo6mtn"
      }
    },
    {
      "cell_type": "code",
      "execution_count": 25,
      "metadata": {
        "colab": {
          "base_uri": "https://localhost:8080/"
        },
        "id": "I6yiT19JMDJ8",
        "outputId": "0c94a261-2b9b-4747-9899-9c19b61627ca"
      },
      "outputs": [
        {
          "output_type": "stream",
          "name": "stdout",
          "text": [
            "Information Gain(Rank, Q1) = 0.05766599597492594\n",
            "Information Gain(Rank, Q2) = 0.1603079140797511\n",
            "Information Gain(Rank, Q3) = 0.0757466749752741\n",
            "Information Gain(Rank, Q4) = 0.09760981226901477\n",
            "Information Gain(Rank, Q5) = 0.07328176843603607\n",
            "Information Gain(Rank, Q6) = 0.10758903952646592\n",
            "Information Gain(Rank, Q7) = 0.1069117433564144\n",
            "Information Gain(Rank, Q8) = 0.09404074023396891\n",
            "Information Gain(Rank, Q9) = 0.1342332599141033\n"
          ]
        }
      ],
      "source": [
        "def getInformationGain(Q):\n",
        "  return getEntropy('Rank') - getAvgEntropy(Q)\n",
        "\n",
        "for ele in ['Q1', 'Q2', 'Q3', 'Q4', 'Q5', 'Q6', 'Q7', 'Q8', 'Q9']:\n",
        "  IG = getInformationGain(ele)\n",
        "  print(f\"Information Gain(Rank, {ele}) =\", IG)"
      ]
    },
    {
      "cell_type": "markdown",
      "source": [
        "# **Get H, AE and IG of all features**"
      ],
      "metadata": {
        "id": "W40rpeq_602F"
      }
    },
    {
      "cell_type": "code",
      "execution_count": 26,
      "metadata": {
        "colab": {
          "base_uri": "https://localhost:8080/"
        },
        "id": "Mit3xwIAN6_y",
        "outputId": "9c6f500e-3f8f-43fe-dfcf-f9de87feb293"
      },
      "outputs": [
        {
          "output_type": "stream",
          "name": "stdout",
          "text": [
            "Entropy(Q1) = 2.5248962387450886\n",
            "Average Entropy(Q1) = 0.8643297071195146\n",
            "Information Gain(Rank, Q1) = 0.05766599597492594\n",
            "==================================================\n",
            "Entropy(Q2) = 4.132418142909147\n",
            "Average Entropy(Q2) = 0.7616877890146895\n",
            "Information Gain(Rank, Q2) = 0.1603079140797511\n",
            "==================================================\n",
            "Entropy(Q3) = 3.13737672780893\n",
            "Average Entropy(Q3) = 0.8462490281191665\n",
            "Information Gain(Rank, Q3) = 0.0757466749752741\n",
            "==================================================\n",
            "Entropy(Q4) = 2.9241869100202065\n",
            "Average Entropy(Q4) = 0.8243858908254258\n",
            "Information Gain(Rank, Q4) = 0.09760981226901477\n",
            "==================================================\n",
            "Entropy(Q5) = 3.01657876376289\n",
            "Average Entropy(Q5) = 0.8487139346584045\n",
            "Information Gain(Rank, Q5) = 0.07328176843603607\n",
            "==================================================\n",
            "Entropy(Q6) = 3.2029458689261694\n",
            "Average Entropy(Q6) = 0.8144066635679746\n",
            "Information Gain(Rank, Q6) = 0.10758903952646592\n",
            "==================================================\n",
            "Entropy(Q7) = 2.090453638138469\n",
            "Average Entropy(Q7) = 0.8150839597380262\n",
            "Information Gain(Rank, Q7) = 0.1069117433564144\n",
            "==================================================\n",
            "Entropy(Q8) = 3.4967234560100016\n",
            "Average Entropy(Q8) = 0.8279549628604717\n",
            "Information Gain(Rank, Q8) = 0.09404074023396891\n",
            "==================================================\n",
            "Entropy(Q9) = 3.2293908096090562\n",
            "Average Entropy(Q9) = 0.7877624431803373\n",
            "Information Gain(Rank, Q9) = 0.1342332599141033\n",
            "==================================================\n"
          ]
        }
      ],
      "source": [
        "def getAll (Q):\n",
        "  return getEntropy(Q), getAvgEntropy(Q), getInformationGain(Q)\n",
        "\n",
        "for ele in ['Q1', 'Q2', 'Q3', 'Q4', 'Q5', 'Q6', 'Q7', 'Q8', 'Q9']:\n",
        "  H_Q, AE_Q, IG_Q = getAll(ele)\n",
        "  print(f\"Entropy({ele}) =\", H_Q)\n",
        "  print(f\"Average Entropy({ele}) =\", AE_Q)\n",
        "  print(f\"Information Gain(Rank, {ele}) =\", IG_Q)\n",
        "  print(\"==================================================\")"
      ]
    },
    {
      "cell_type": "markdown",
      "source": [
        "# **Get H, AE and IG of feature from user input**"
      ],
      "metadata": {
        "id": "EYibAcA-74X0"
      }
    },
    {
      "cell_type": "code",
      "source": [
        "feature_inp = input(\"Enter feature from Q1-Q9 to compute: \")\n",
        "\n",
        "H_inp, AE_inp, IG_inp = getAll(feature_inp)\n",
        "\n",
        "print(f\"Entropy({feature_inp}) =\", H_inp)\n",
        "print(f\"Average Entropy({feature_inp}) =\", AE_inp)\n",
        "print(f\"Information Gain(Rank, {feature_inp}) =\", IG_inp)"
      ],
      "metadata": {
        "colab": {
          "base_uri": "https://localhost:8080/"
        },
        "id": "VkQqCDrE7SIx",
        "outputId": "5d697215-4a8a-4d4c-95fd-17d74b85da38"
      },
      "execution_count": 27,
      "outputs": [
        {
          "output_type": "stream",
          "name": "stdout",
          "text": [
            "Enter feature from Q1-Q9 to compute: Q5\n",
            "Entropy(Q5) = 3.01657876376289\n",
            "Average Entropy(Q5) = 0.8487139346584045\n",
            "Information Gain(Rank, Q5) = 0.07328176843603607\n"
          ]
        }
      ]
    },
    {
      "cell_type": "markdown",
      "source": [
        "# **Split dataset and train model**"
      ],
      "metadata": {
        "id": "zw3ZIDrpCw8s"
      }
    },
    {
      "cell_type": "code",
      "execution_count": 37,
      "metadata": {
        "id": "iVln-_TJtVZL",
        "colab": {
          "base_uri": "https://localhost:8080/",
          "height": 75
        },
        "outputId": "c1da7524-d18b-48e4-aa0a-1bb05d431e1f"
      },
      "outputs": [
        {
          "output_type": "execute_result",
          "data": {
            "text/plain": [
              "DecisionTreeClassifier(criterion='entropy', max_depth=7, min_samples_leaf=2)"
            ],
            "text/html": [
              "<style>#sk-container-id-5 {color: black;background-color: white;}#sk-container-id-5 pre{padding: 0;}#sk-container-id-5 div.sk-toggleable {background-color: white;}#sk-container-id-5 label.sk-toggleable__label {cursor: pointer;display: block;width: 100%;margin-bottom: 0;padding: 0.3em;box-sizing: border-box;text-align: center;}#sk-container-id-5 label.sk-toggleable__label-arrow:before {content: \"▸\";float: left;margin-right: 0.25em;color: #696969;}#sk-container-id-5 label.sk-toggleable__label-arrow:hover:before {color: black;}#sk-container-id-5 div.sk-estimator:hover label.sk-toggleable__label-arrow:before {color: black;}#sk-container-id-5 div.sk-toggleable__content {max-height: 0;max-width: 0;overflow: hidden;text-align: left;background-color: #f0f8ff;}#sk-container-id-5 div.sk-toggleable__content pre {margin: 0.2em;color: black;border-radius: 0.25em;background-color: #f0f8ff;}#sk-container-id-5 input.sk-toggleable__control:checked~div.sk-toggleable__content {max-height: 200px;max-width: 100%;overflow: auto;}#sk-container-id-5 input.sk-toggleable__control:checked~label.sk-toggleable__label-arrow:before {content: \"▾\";}#sk-container-id-5 div.sk-estimator input.sk-toggleable__control:checked~label.sk-toggleable__label {background-color: #d4ebff;}#sk-container-id-5 div.sk-label input.sk-toggleable__control:checked~label.sk-toggleable__label {background-color: #d4ebff;}#sk-container-id-5 input.sk-hidden--visually {border: 0;clip: rect(1px 1px 1px 1px);clip: rect(1px, 1px, 1px, 1px);height: 1px;margin: -1px;overflow: hidden;padding: 0;position: absolute;width: 1px;}#sk-container-id-5 div.sk-estimator {font-family: monospace;background-color: #f0f8ff;border: 1px dotted black;border-radius: 0.25em;box-sizing: border-box;margin-bottom: 0.5em;}#sk-container-id-5 div.sk-estimator:hover {background-color: #d4ebff;}#sk-container-id-5 div.sk-parallel-item::after {content: \"\";width: 100%;border-bottom: 1px solid gray;flex-grow: 1;}#sk-container-id-5 div.sk-label:hover label.sk-toggleable__label {background-color: #d4ebff;}#sk-container-id-5 div.sk-serial::before {content: \"\";position: absolute;border-left: 1px solid gray;box-sizing: border-box;top: 0;bottom: 0;left: 50%;z-index: 0;}#sk-container-id-5 div.sk-serial {display: flex;flex-direction: column;align-items: center;background-color: white;padding-right: 0.2em;padding-left: 0.2em;position: relative;}#sk-container-id-5 div.sk-item {position: relative;z-index: 1;}#sk-container-id-5 div.sk-parallel {display: flex;align-items: stretch;justify-content: center;background-color: white;position: relative;}#sk-container-id-5 div.sk-item::before, #sk-container-id-5 div.sk-parallel-item::before {content: \"\";position: absolute;border-left: 1px solid gray;box-sizing: border-box;top: 0;bottom: 0;left: 50%;z-index: -1;}#sk-container-id-5 div.sk-parallel-item {display: flex;flex-direction: column;z-index: 1;position: relative;background-color: white;}#sk-container-id-5 div.sk-parallel-item:first-child::after {align-self: flex-end;width: 50%;}#sk-container-id-5 div.sk-parallel-item:last-child::after {align-self: flex-start;width: 50%;}#sk-container-id-5 div.sk-parallel-item:only-child::after {width: 0;}#sk-container-id-5 div.sk-dashed-wrapped {border: 1px dashed gray;margin: 0 0.4em 0.5em 0.4em;box-sizing: border-box;padding-bottom: 0.4em;background-color: white;}#sk-container-id-5 div.sk-label label {font-family: monospace;font-weight: bold;display: inline-block;line-height: 1.2em;}#sk-container-id-5 div.sk-label-container {text-align: center;}#sk-container-id-5 div.sk-container {/* jupyter's `normalize.less` sets `[hidden] { display: none; }` but bootstrap.min.css set `[hidden] { display: none !important; }` so we also need the `!important` here to be able to override the default hidden behavior on the sphinx rendered scikit-learn.org. See: https://github.com/scikit-learn/scikit-learn/issues/21755 */display: inline-block !important;position: relative;}#sk-container-id-5 div.sk-text-repr-fallback {display: none;}</style><div id=\"sk-container-id-5\" class=\"sk-top-container\"><div class=\"sk-text-repr-fallback\"><pre>DecisionTreeClassifier(criterion=&#x27;entropy&#x27;, max_depth=7, min_samples_leaf=2)</pre><b>In a Jupyter environment, please rerun this cell to show the HTML representation or trust the notebook. <br />On GitHub, the HTML representation is unable to render, please try loading this page with nbviewer.org.</b></div><div class=\"sk-container\" hidden><div class=\"sk-item\"><div class=\"sk-estimator sk-toggleable\"><input class=\"sk-toggleable__control sk-hidden--visually\" id=\"sk-estimator-id-5\" type=\"checkbox\" checked><label for=\"sk-estimator-id-5\" class=\"sk-toggleable__label sk-toggleable__label-arrow\">DecisionTreeClassifier</label><div class=\"sk-toggleable__content\"><pre>DecisionTreeClassifier(criterion=&#x27;entropy&#x27;, max_depth=7, min_samples_leaf=2)</pre></div></div></div></div></div>"
            ]
          },
          "metadata": {},
          "execution_count": 37
        }
      ],
      "source": [
        "X = df.iloc[:, 2:11].values\n",
        "y = df.iloc[:, 1].values.reshape(-1, 1)\n",
        "\n",
        "X_train, X_test, y_train, y_test = train_test_split(X, y, test_size=0.2, random_state = 42)\n",
        "\n",
        "model = DecisionTreeClassifier(criterion=\"entropy\", max_depth=7, min_samples_leaf=2)\n",
        "model.fit(X_train, y_train)"
      ]
    },
    {
      "cell_type": "markdown",
      "source": [
        "# **Test and evaluate model**"
      ],
      "metadata": {
        "id": "QjatI2TADhFh"
      }
    },
    {
      "cell_type": "code",
      "execution_count": 38,
      "metadata": {
        "colab": {
          "base_uri": "https://localhost:8080/"
        },
        "id": "siJzMZakNgyE",
        "outputId": "c6cefe3b-1a20-4386-db9d-22742873e576"
      },
      "outputs": [
        {
          "output_type": "stream",
          "name": "stdout",
          "text": [
            "Accuracy score = 0.7222222222222222\n",
            "Model performance for Train set = 0.92018779342723\n",
            "Model performance for Test set = 0.7222222222222222\n",
            "\n",
            "              precision    recall  f1-score   support\n",
            "\n",
            "           F       0.57      0.67      0.62        18\n",
            "           P       0.82      0.75      0.78        36\n",
            "\n",
            "    accuracy                           0.72        54\n",
            "   macro avg       0.69      0.71      0.70        54\n",
            "weighted avg       0.74      0.72      0.73        54\n",
            "\n"
          ]
        }
      ],
      "source": [
        "y_pred = model.predict(X_test)\n",
        "\n",
        "score = accuracy_score(y_test, y_pred)\n",
        "\n",
        "print('Accuracy score =', score)\n",
        "print(\"Model performance for Train set =\", model.score(X_train, y_train))\n",
        "print(\"Model performance for Test set =\", model.score(X_test, y_test))\n",
        "\n",
        "print()\n",
        "\n",
        "print(classification_report(y_test, y_pred))"
      ]
    },
    {
      "cell_type": "code",
      "source": [
        "from sklearn.model_selection import cross_val_score\n",
        "\n",
        "scores = cross_val_score(model, X, y, cv=5)\n",
        "print(\"Cross-validation scores: \", scores)\n",
        "print(\"Average cross-validation score: \", scores.mean())"
      ],
      "metadata": {
        "colab": {
          "base_uri": "https://localhost:8080/"
        },
        "id": "M1mZ9HUQsT-V",
        "outputId": "682fbc2e-cdae-4d45-e78e-86028d6c86e0"
      },
      "execution_count": 39,
      "outputs": [
        {
          "output_type": "stream",
          "name": "stdout",
          "text": [
            "Cross-validation scores:  [0.64814815 0.66666667 0.69811321 0.73584906 0.56603774]\n",
            "Average cross-validation score:  0.662962962962963\n"
          ]
        }
      ]
    },
    {
      "cell_type": "markdown",
      "source": [
        "# **Get feature importances**"
      ],
      "metadata": {
        "id": "-HfAZHaZiuuj"
      }
    },
    {
      "cell_type": "code",
      "source": [
        "feature_names = df.columns[2:11]\n",
        "importances = model.feature_importances_\n",
        "imp = pd.Series(importances, index=feature_names)\n",
        "print(imp)"
      ],
      "metadata": {
        "colab": {
          "base_uri": "https://localhost:8080/"
        },
        "id": "zRdruL9MWlG6",
        "outputId": "fb8f1f5e-31cc-4437-af93-764fa805b2d7"
      },
      "execution_count": 40,
      "outputs": [
        {
          "output_type": "stream",
          "name": "stdout",
          "text": [
            "Q1    0.085837\n",
            "Q2    0.053960\n",
            "Q3    0.077833\n",
            "Q4    0.133723\n",
            "Q5    0.171210\n",
            "Q6    0.171379\n",
            "Q7    0.137153\n",
            "Q8    0.086628\n",
            "Q9    0.082277\n",
            "dtype: float64\n"
          ]
        }
      ]
    },
    {
      "cell_type": "markdown",
      "source": [
        "# **Plot confusion matrix**"
      ],
      "metadata": {
        "id": "FK0Yeu0UDs5v"
      }
    },
    {
      "cell_type": "code",
      "execution_count": 41,
      "metadata": {
        "colab": {
          "base_uri": "https://localhost:8080/",
          "height": 449
        },
        "id": "KmCURMftLERf",
        "outputId": "effac2be-765f-4eb6-ef13-1f41192a4b55"
      },
      "outputs": [
        {
          "output_type": "display_data",
          "data": {
            "text/plain": [
              "<Figure size 640x480 with 2 Axes>"
            ],
            "image/png": "[encoded data removed]"
          },
          "metadata": {}
        }
      ],
      "source": [
        "cm = confusion_matrix(y_test, y_pred, labels=model.classes_)\n",
        "disp = ConfusionMatrixDisplay(confusion_matrix=cm, display_labels=model.classes_)\n",
        "disp.plot()\n",
        "plt.show()"
      ]
    },
    {
      "cell_type": "markdown",
      "source": [
        "# **Plot decision tree**"
      ],
      "metadata": {
        "id": "pEobxfk_Dx66"
      }
    },
    {
      "cell_type": "code",
      "source": [
        "feature_names = df.columns[2:11]\n",
        "class_names = ['F', 'P']\n",
        "\n",
        "dot_data = export_graphviz(model, out_file=None, feature_names=feature_names, class_names=class_names, filled=True)\n",
        "graph = graphviz.Source(dot_data)\n",
        "graph"
      ],
      "metadata": {
        "colab": {
          "base_uri": "https://localhost:8080/",
          "height": 1000
        },
        "id": "Y7b0ZmJAPqfP",
        "outputId": "c63f9a17-7d10-4a14-f7a8-5409f7b67dd6"
      },
      "execution_count": 42,
      "outputs": [
        {
          "output_type": "execute_result",
          "data": {
            "image/svg+xml": "<?xml version=\"1.0\" encoding=\"UTF-8\" standalone=\"no\"?>\n<!DOCTYPE svg PUBLIC \"-//W3C//DTD SVG 1.1//EN\"\n \"http://www.w3.org/Graphics/SVG/1.1/DTD/svg11.dtd\">\n<!-- Generated by graphviz version 2.43.0 (0)\n -->\n<!-- Title: Tree Pages: 1 -->\n<svg width=\"2551pt\" height=\"909pt\"\n viewBox=\"0.00 0.00 2550.50 909.00\" xmlns=\"http://www.w3.org/2000/svg\" xmlns:xlink=\"http://www.w3.org/1999/xlink\">\n<g id=\"graph0\" class=\"graph\" transform=\"scale(1 1) rotate(0) translate(4 905)\">\n<title>Tree</title>\n<polygon fill=\"white\" stroke=\"transparent\" points=\"-4,4 -4,-905 2546.5,-905 2546.5,4 -4,4\"/>\n<!-- 0 -->\n<g id=\"node1\" class=\"node\">\n<title>0</title>\n<polygon fill=\"#9ecff2\" stroke=\"black\" points=\"802,-901 685,-901 685,-818 802,-818 802,-901\"/>\n<text text-anchor=\"middle\" x=\"743.5\" y=\"-885.8\" font-family=\"Helvetica,sans-Serif\" font-size=\"14.00\">Q7 &lt;= 1.0</text>\n<text text-anchor=\"middle\" x=\"743.5\" y=\"-870.8\" font-family=\"Helvetica,sans-Serif\" font-size=\"14.00\">entropy = 0.923</text>\n<text text-anchor=\"middle\" x=\"743.5\" y=\"-855.8\" font-family=\"Helvetica,sans-Serif\" font-size=\"14.00\">samples = 213</text>\n<text text-anchor=\"middle\" x=\"743.5\" y=\"-840.8\" font-family=\"Helvetica,sans-Serif\" font-size=\"14.00\">value = [72, 141]</text>\n<text text-anchor=\"middle\" x=\"743.5\" y=\"-825.8\" font-family=\"Helvetica,sans-Serif\" font-size=\"14.00\">class = P</text>\n</g>\n<!-- 1 -->\n<g id=\"node2\" class=\"node\">\n<title>1</title>\n<polygon fill=\"#f6d5bd\" stroke=\"black\" points=\"619,-782 508,-782 508,-699 619,-699 619,-782\"/>\n<text text-anchor=\"middle\" x=\"563.5\" y=\"-766.8\" font-family=\"Helvetica,sans-Serif\" font-size=\"14.00\">Q5 &lt;= 0.5</text>\n<text text-anchor=\"middle\" x=\"563.5\" y=\"-751.8\" font-family=\"Helvetica,sans-Serif\" font-size=\"14.00\">entropy = 0.971</text>\n<text text-anchor=\"middle\" x=\"563.5\" y=\"-736.8\" font-family=\"Helvetica,sans-Serif\" font-size=\"14.00\">samples = 65</text>\n<text text-anchor=\"middle\" x=\"563.5\" y=\"-721.8\" font-family=\"Helvetica,sans-Serif\" font-size=\"14.00\">value = [39, 26]</text>\n<text text-anchor=\"middle\" x=\"563.5\" y=\"-706.8\" font-family=\"Helvetica,sans-Serif\" font-size=\"14.00\">class = F</text>\n</g>\n<!-- 0&#45;&gt;1 -->\n<g id=\"edge1\" class=\"edge\">\n<title>0&#45;&gt;1</title>\n<path fill=\"none\" stroke=\"black\" d=\"M684.56,-820.19C666.33,-808.34 646.17,-795.24 627.61,-783.17\"/>\n<polygon fill=\"black\" stroke=\"black\" points=\"629.5,-780.23 619.21,-777.71 625.69,-786.1 629.5,-780.23\"/>\n<text text-anchor=\"middle\" x=\"624.4\" y=\"-798.47\" font-family=\"Helvetica,sans-Serif\" font-size=\"14.00\">True</text>\n</g>\n<!-- 28 -->\n<g id=\"node29\" class=\"node\">\n<title>28</title>\n<polygon fill=\"#72b9ec\" stroke=\"black\" points=\"1032,-782 915,-782 915,-699 1032,-699 1032,-782\"/>\n<text text-anchor=\"middle\" x=\"973.5\" y=\"-766.8\" font-family=\"Helvetica,sans-Serif\" font-size=\"14.00\">Q6 &lt;= 0.5</text>\n<text text-anchor=\"middle\" x=\"973.5\" y=\"-751.8\" font-family=\"Helvetica,sans-Serif\" font-size=\"14.00\">entropy = 0.766</text>\n<text text-anchor=\"middle\" x=\"973.5\" y=\"-736.8\" font-family=\"Helvetica,sans-Serif\" font-size=\"14.00\">samples = 148</text>\n<text text-anchor=\"middle\" x=\"973.5\" y=\"-721.8\" font-family=\"Helvetica,sans-Serif\" font-size=\"14.00\">value = [33, 115]</text>\n<text text-anchor=\"middle\" x=\"973.5\" y=\"-706.8\" font-family=\"Helvetica,sans-Serif\" font-size=\"14.00\">class = P</text>\n</g>\n<!-- 0&#45;&gt;28 -->\n<g id=\"edge28\" class=\"edge\">\n<title>0&#45;&gt;28</title>\n<path fill=\"none\" stroke=\"black\" d=\"M802.13,-828.67C833.76,-812.58 872.95,-792.65 905.87,-775.9\"/>\n<polygon fill=\"black\" stroke=\"black\" points=\"907.65,-778.93 914.97,-771.27 904.47,-772.69 907.65,-778.93\"/>\n<text text-anchor=\"middle\" x=\"907.23\" y=\"-791.34\" font-family=\"Helvetica,sans-Serif\" font-size=\"14.00\">False</text>\n</g>\n<!-- 2 -->\n<g id=\"node3\" class=\"node\">\n<title>2</title>\n<polygon fill=\"#ea985d\" stroke=\"black\" points=\"429,-663 318,-663 318,-580 429,-580 429,-663\"/>\n<text text-anchor=\"middle\" x=\"373.5\" y=\"-647.8\" font-family=\"Helvetica,sans-Serif\" font-size=\"14.00\">Q3 &lt;= 5.5</text>\n<text text-anchor=\"middle\" x=\"373.5\" y=\"-632.8\" font-family=\"Helvetica,sans-Serif\" font-size=\"14.00\">entropy = 0.619</text>\n<text text-anchor=\"middle\" x=\"373.5\" y=\"-617.8\" font-family=\"Helvetica,sans-Serif\" font-size=\"14.00\">samples = 26</text>\n<text text-anchor=\"middle\" x=\"373.5\" y=\"-602.8\" font-family=\"Helvetica,sans-Serif\" font-size=\"14.00\">value = [22, 4]</text>\n<text text-anchor=\"middle\" x=\"373.5\" y=\"-587.8\" font-family=\"Helvetica,sans-Serif\" font-size=\"14.00\">class = F</text>\n</g>\n<!-- 1&#45;&gt;2 -->\n<g id=\"edge2\" class=\"edge\">\n<title>1&#45;&gt;2</title>\n<path fill=\"none\" stroke=\"black\" d=\"M507.78,-705.19C485.83,-691.67 460.5,-676.07 437.79,-662.09\"/>\n<polygon fill=\"black\" stroke=\"black\" points=\"439.57,-659.08 429.22,-656.81 435.9,-665.04 439.57,-659.08\"/>\n</g>\n<!-- 11 -->\n<g id=\"node12\" class=\"node\">\n<title>11</title>\n<polygon fill=\"#d2e9f9\" stroke=\"black\" points=\"619,-663 508,-663 508,-580 619,-580 619,-663\"/>\n<text text-anchor=\"middle\" x=\"563.5\" y=\"-647.8\" font-family=\"Helvetica,sans-Serif\" font-size=\"14.00\">Q1 &lt;= 0.5</text>\n<text text-anchor=\"middle\" x=\"563.5\" y=\"-632.8\" font-family=\"Helvetica,sans-Serif\" font-size=\"14.00\">entropy = 0.988</text>\n<text text-anchor=\"middle\" x=\"563.5\" y=\"-617.8\" font-family=\"Helvetica,sans-Serif\" font-size=\"14.00\">samples = 39</text>\n<text text-anchor=\"middle\" x=\"563.5\" y=\"-602.8\" font-family=\"Helvetica,sans-Serif\" font-size=\"14.00\">value = [17, 22]</text>\n<text text-anchor=\"middle\" x=\"563.5\" y=\"-587.8\" font-family=\"Helvetica,sans-Serif\" font-size=\"14.00\">class = P</text>\n</g>\n<!-- 1&#45;&gt;11 -->\n<g id=\"edge11\" class=\"edge\">\n<title>1&#45;&gt;11</title>\n<path fill=\"none\" stroke=\"black\" d=\"M563.5,-698.91C563.5,-690.65 563.5,-681.86 563.5,-673.3\"/>\n<polygon fill=\"black\" stroke=\"black\" points=\"567,-673.02 563.5,-663.02 560,-673.02 567,-673.02\"/>\n</g>\n<!-- 3 -->\n<g id=\"node4\" class=\"node\">\n<title>3</title>\n<polygon fill=\"#e78c4b\" stroke=\"black\" points=\"306,-544 195,-544 195,-461 306,-461 306,-544\"/>\n<text text-anchor=\"middle\" x=\"250.5\" y=\"-528.8\" font-family=\"Helvetica,sans-Serif\" font-size=\"14.00\">Q6 &lt;= 0.5</text>\n<text text-anchor=\"middle\" x=\"250.5\" y=\"-513.8\" font-family=\"Helvetica,sans-Serif\" font-size=\"14.00\">entropy = 0.414</text>\n<text text-anchor=\"middle\" x=\"250.5\" y=\"-498.8\" font-family=\"Helvetica,sans-Serif\" font-size=\"14.00\">samples = 24</text>\n<text text-anchor=\"middle\" x=\"250.5\" y=\"-483.8\" font-family=\"Helvetica,sans-Serif\" font-size=\"14.00\">value = [22, 2]</text>\n<text text-anchor=\"middle\" x=\"250.5\" y=\"-468.8\" font-family=\"Helvetica,sans-Serif\" font-size=\"14.00\">class = F</text>\n</g>\n<!-- 2&#45;&gt;3 -->\n<g id=\"edge3\" class=\"edge\">\n<title>2&#45;&gt;3</title>\n<path fill=\"none\" stroke=\"black\" d=\"M330.83,-579.91C321,-570.56 310.46,-560.54 300.36,-550.93\"/>\n<polygon fill=\"black\" stroke=\"black\" points=\"302.76,-548.38 293.1,-544.02 297.93,-553.45 302.76,-548.38\"/>\n</g>\n<!-- 10 -->\n<g id=\"node11\" class=\"node\">\n<title>10</title>\n<polygon fill=\"#399de5\" stroke=\"black\" points=\"421.5,-536.5 325.5,-536.5 325.5,-468.5 421.5,-468.5 421.5,-536.5\"/>\n<text text-anchor=\"middle\" x=\"373.5\" y=\"-521.3\" font-family=\"Helvetica,sans-Serif\" font-size=\"14.00\">entropy = 0.0</text>\n<text text-anchor=\"middle\" x=\"373.5\" y=\"-506.3\" font-family=\"Helvetica,sans-Serif\" font-size=\"14.00\">samples = 2</text>\n<text text-anchor=\"middle\" x=\"373.5\" y=\"-491.3\" font-family=\"Helvetica,sans-Serif\" font-size=\"14.00\">value = [0, 2]</text>\n<text text-anchor=\"middle\" x=\"373.5\" y=\"-476.3\" font-family=\"Helvetica,sans-Serif\" font-size=\"14.00\">class = P</text>\n</g>\n<!-- 2&#45;&gt;10 -->\n<g id=\"edge10\" class=\"edge\">\n<title>2&#45;&gt;10</title>\n<path fill=\"none\" stroke=\"black\" d=\"M373.5,-579.91C373.5,-569.2 373.5,-557.62 373.5,-546.78\"/>\n<polygon fill=\"black\" stroke=\"black\" points=\"377,-546.67 373.5,-536.67 370,-546.67 377,-546.67\"/>\n</g>\n<!-- 4 -->\n<g id=\"node5\" class=\"node\">\n<title>4</title>\n<polygon fill=\"#e9965a\" stroke=\"black\" points=\"181,-425 70,-425 70,-342 181,-342 181,-425\"/>\n<text text-anchor=\"middle\" x=\"125.5\" y=\"-409.8\" font-family=\"Helvetica,sans-Serif\" font-size=\"14.00\">Q2 &lt;= 6.05</text>\n<text text-anchor=\"middle\" x=\"125.5\" y=\"-394.8\" font-family=\"Helvetica,sans-Serif\" font-size=\"14.00\">entropy = 0.592</text>\n<text text-anchor=\"middle\" x=\"125.5\" y=\"-379.8\" font-family=\"Helvetica,sans-Serif\" font-size=\"14.00\">samples = 14</text>\n<text text-anchor=\"middle\" x=\"125.5\" y=\"-364.8\" font-family=\"Helvetica,sans-Serif\" font-size=\"14.00\">value = [12, 2]</text>\n<text text-anchor=\"middle\" x=\"125.5\" y=\"-349.8\" font-family=\"Helvetica,sans-Serif\" font-size=\"14.00\">class = F</text>\n</g>\n<!-- 3&#45;&gt;4 -->\n<g id=\"edge4\" class=\"edge\">\n<title>3&#45;&gt;4</title>\n<path fill=\"none\" stroke=\"black\" d=\"M207.13,-460.91C197.15,-451.56 186.44,-441.54 176.17,-431.93\"/>\n<polygon fill=\"black\" stroke=\"black\" points=\"178.48,-429.3 168.79,-425.02 173.7,-434.41 178.48,-429.3\"/>\n</g>\n<!-- 9 -->\n<g id=\"node10\" class=\"node\">\n<title>9</title>\n<polygon fill=\"#e58139\" stroke=\"black\" points=\"301.5,-417.5 199.5,-417.5 199.5,-349.5 301.5,-349.5 301.5,-417.5\"/>\n<text text-anchor=\"middle\" x=\"250.5\" y=\"-402.3\" font-family=\"Helvetica,sans-Serif\" font-size=\"14.00\">entropy = 0.0</text>\n<text text-anchor=\"middle\" x=\"250.5\" y=\"-387.3\" font-family=\"Helvetica,sans-Serif\" font-size=\"14.00\">samples = 10</text>\n<text text-anchor=\"middle\" x=\"250.5\" y=\"-372.3\" font-family=\"Helvetica,sans-Serif\" font-size=\"14.00\">value = [10, 0]</text>\n<text text-anchor=\"middle\" x=\"250.5\" y=\"-357.3\" font-family=\"Helvetica,sans-Serif\" font-size=\"14.00\">class = F</text>\n</g>\n<!-- 3&#45;&gt;9 -->\n<g id=\"edge9\" class=\"edge\">\n<title>3&#45;&gt;9</title>\n<path fill=\"none\" stroke=\"black\" d=\"M250.5,-460.91C250.5,-450.2 250.5,-438.62 250.5,-427.78\"/>\n<polygon fill=\"black\" stroke=\"black\" points=\"254,-427.67 250.5,-417.67 247,-427.67 254,-427.67\"/>\n</g>\n<!-- 5 -->\n<g id=\"node6\" class=\"node\">\n<title>5</title>\n<polygon fill=\"#e78c4b\" stroke=\"black\" points=\"181,-306 70,-306 70,-223 181,-223 181,-306\"/>\n<text text-anchor=\"middle\" x=\"125.5\" y=\"-290.8\" font-family=\"Helvetica,sans-Serif\" font-size=\"14.00\">Q3 &lt;= 0.5</text>\n<text text-anchor=\"middle\" x=\"125.5\" y=\"-275.8\" font-family=\"Helvetica,sans-Serif\" font-size=\"14.00\">entropy = 0.414</text>\n<text text-anchor=\"middle\" x=\"125.5\" y=\"-260.8\" font-family=\"Helvetica,sans-Serif\" font-size=\"14.00\">samples = 12</text>\n<text text-anchor=\"middle\" x=\"125.5\" y=\"-245.8\" font-family=\"Helvetica,sans-Serif\" font-size=\"14.00\">value = [11, 1]</text>\n<text text-anchor=\"middle\" x=\"125.5\" y=\"-230.8\" font-family=\"Helvetica,sans-Serif\" font-size=\"14.00\">class = F</text>\n</g>\n<!-- 4&#45;&gt;5 -->\n<g id=\"edge5\" class=\"edge\">\n<title>4&#45;&gt;5</title>\n<path fill=\"none\" stroke=\"black\" d=\"M125.5,-341.91C125.5,-333.65 125.5,-324.86 125.5,-316.3\"/>\n<polygon fill=\"black\" stroke=\"black\" points=\"129,-316.02 125.5,-306.02 122,-316.02 129,-316.02\"/>\n</g>\n<!-- 8 -->\n<g id=\"node9\" class=\"node\">\n<title>8</title>\n<polygon fill=\"#ffffff\" stroke=\"black\" points=\"295.5,-298.5 199.5,-298.5 199.5,-230.5 295.5,-230.5 295.5,-298.5\"/>\n<text text-anchor=\"middle\" x=\"247.5\" y=\"-283.3\" font-family=\"Helvetica,sans-Serif\" font-size=\"14.00\">entropy = 1.0</text>\n<text text-anchor=\"middle\" x=\"247.5\" y=\"-268.3\" font-family=\"Helvetica,sans-Serif\" font-size=\"14.00\">samples = 2</text>\n<text text-anchor=\"middle\" x=\"247.5\" y=\"-253.3\" font-family=\"Helvetica,sans-Serif\" font-size=\"14.00\">value = [1, 1]</text>\n<text text-anchor=\"middle\" x=\"247.5\" y=\"-238.3\" font-family=\"Helvetica,sans-Serif\" font-size=\"14.00\">class = F</text>\n</g>\n<!-- 4&#45;&gt;8 -->\n<g id=\"edge8\" class=\"edge\">\n<title>4&#45;&gt;8</title>\n<path fill=\"none\" stroke=\"black\" d=\"M167.83,-341.91C180.02,-330.21 193.32,-317.46 205.5,-305.78\"/>\n<polygon fill=\"black\" stroke=\"black\" points=\"208.12,-308.11 212.92,-298.67 203.28,-303.06 208.12,-308.11\"/>\n</g>\n<!-- 6 -->\n<g id=\"node7\" class=\"node\">\n<title>6</title>\n<polygon fill=\"#e99355\" stroke=\"black\" points=\"111,-179.5 0,-179.5 0,-111.5 111,-111.5 111,-179.5\"/>\n<text text-anchor=\"middle\" x=\"55.5\" y=\"-164.3\" font-family=\"Helvetica,sans-Serif\" font-size=\"14.00\">entropy = 0.544</text>\n<text text-anchor=\"middle\" x=\"55.5\" y=\"-149.3\" font-family=\"Helvetica,sans-Serif\" font-size=\"14.00\">samples = 8</text>\n<text text-anchor=\"middle\" x=\"55.5\" y=\"-134.3\" font-family=\"Helvetica,sans-Serif\" font-size=\"14.00\">value = [7, 1]</text>\n<text text-anchor=\"middle\" x=\"55.5\" y=\"-119.3\" font-family=\"Helvetica,sans-Serif\" font-size=\"14.00\">class = F</text>\n</g>\n<!-- 5&#45;&gt;6 -->\n<g id=\"edge6\" class=\"edge\">\n<title>5&#45;&gt;6</title>\n<path fill=\"none\" stroke=\"black\" d=\"M101.21,-222.91C94.55,-211.76 87.3,-199.66 80.59,-188.44\"/>\n<polygon fill=\"black\" stroke=\"black\" points=\"83.48,-186.45 75.34,-179.67 77.47,-190.05 83.48,-186.45\"/>\n</g>\n<!-- 7 -->\n<g id=\"node8\" class=\"node\">\n<title>7</title>\n<polygon fill=\"#e58139\" stroke=\"black\" points=\"225.5,-179.5 129.5,-179.5 129.5,-111.5 225.5,-111.5 225.5,-179.5\"/>\n<text text-anchor=\"middle\" x=\"177.5\" y=\"-164.3\" font-family=\"Helvetica,sans-Serif\" font-size=\"14.00\">entropy = 0.0</text>\n<text text-anchor=\"middle\" x=\"177.5\" y=\"-149.3\" font-family=\"Helvetica,sans-Serif\" font-size=\"14.00\">samples = 4</text>\n<text text-anchor=\"middle\" x=\"177.5\" y=\"-134.3\" font-family=\"Helvetica,sans-Serif\" font-size=\"14.00\">value = [4, 0]</text>\n<text text-anchor=\"middle\" x=\"177.5\" y=\"-119.3\" font-family=\"Helvetica,sans-Serif\" font-size=\"14.00\">class = F</text>\n</g>\n<!-- 5&#45;&gt;7 -->\n<g id=\"edge7\" class=\"edge\">\n<title>5&#45;&gt;7</title>\n<path fill=\"none\" stroke=\"black\" d=\"M143.54,-222.91C148.4,-211.98 153.66,-200.14 158.56,-189.11\"/>\n<polygon fill=\"black\" stroke=\"black\" points=\"161.9,-190.23 162.76,-179.67 155.5,-187.38 161.9,-190.23\"/>\n</g>\n<!-- 12 -->\n<g id=\"node13\" class=\"node\">\n<title>12</title>\n<polygon fill=\"#f7d8c2\" stroke=\"black\" points=\"552,-544 441,-544 441,-461 552,-461 552,-544\"/>\n<text text-anchor=\"middle\" x=\"496.5\" y=\"-528.8\" font-family=\"Helvetica,sans-Serif\" font-size=\"14.00\">Q6 &lt;= 6.5</text>\n<text text-anchor=\"middle\" x=\"496.5\" y=\"-513.8\" font-family=\"Helvetica,sans-Serif\" font-size=\"14.00\">entropy = 0.976</text>\n<text text-anchor=\"middle\" x=\"496.5\" y=\"-498.8\" font-family=\"Helvetica,sans-Serif\" font-size=\"14.00\">samples = 22</text>\n<text text-anchor=\"middle\" x=\"496.5\" y=\"-483.8\" font-family=\"Helvetica,sans-Serif\" font-size=\"14.00\">value = [13, 9]</text>\n<text text-anchor=\"middle\" x=\"496.5\" y=\"-468.8\" font-family=\"Helvetica,sans-Serif\" font-size=\"14.00\">class = F</text>\n</g>\n<!-- 11&#45;&gt;12 -->\n<g id=\"edge12\" class=\"edge\">\n<title>11&#45;&gt;12</title>\n<path fill=\"none\" stroke=\"black\" d=\"M540.25,-579.91C535.27,-571.2 529.94,-561.9 524.79,-552.89\"/>\n<polygon fill=\"black\" stroke=\"black\" points=\"527.71,-550.96 519.7,-544.02 521.64,-554.44 527.71,-550.96\"/>\n</g>\n<!-- 21 -->\n<g id=\"node22\" class=\"node\">\n<title>21</title>\n<polygon fill=\"#76bbed\" stroke=\"black\" points=\"681,-544 570,-544 570,-461 681,-461 681,-544\"/>\n<text text-anchor=\"middle\" x=\"625.5\" y=\"-528.8\" font-family=\"Helvetica,sans-Serif\" font-size=\"14.00\">Q2 &lt;= 4.3</text>\n<text text-anchor=\"middle\" x=\"625.5\" y=\"-513.8\" font-family=\"Helvetica,sans-Serif\" font-size=\"14.00\">entropy = 0.787</text>\n<text text-anchor=\"middle\" x=\"625.5\" y=\"-498.8\" font-family=\"Helvetica,sans-Serif\" font-size=\"14.00\">samples = 17</text>\n<text text-anchor=\"middle\" x=\"625.5\" y=\"-483.8\" font-family=\"Helvetica,sans-Serif\" font-size=\"14.00\">value = [4, 13]</text>\n<text text-anchor=\"middle\" x=\"625.5\" y=\"-468.8\" font-family=\"Helvetica,sans-Serif\" font-size=\"14.00\">class = P</text>\n</g>\n<!-- 11&#45;&gt;21 -->\n<g id=\"edge21\" class=\"edge\">\n<title>11&#45;&gt;21</title>\n<path fill=\"none\" stroke=\"black\" d=\"M585.01,-579.91C589.63,-571.2 594.55,-561.9 599.33,-552.89\"/>\n<polygon fill=\"black\" stroke=\"black\" points=\"602.44,-554.5 604.03,-544.02 596.25,-551.22 602.44,-554.5\"/>\n</g>\n<!-- 13 -->\n<g id=\"node14\" class=\"node\">\n<title>13</title>\n<polygon fill=\"#eda876\" stroke=\"black\" points=\"431,-425 320,-425 320,-342 431,-342 431,-425\"/>\n<text text-anchor=\"middle\" x=\"375.5\" y=\"-409.8\" font-family=\"Helvetica,sans-Serif\" font-size=\"14.00\">Q2 &lt;= 2.35</text>\n<text text-anchor=\"middle\" x=\"375.5\" y=\"-394.8\" font-family=\"Helvetica,sans-Serif\" font-size=\"14.00\">entropy = 0.787</text>\n<text text-anchor=\"middle\" x=\"375.5\" y=\"-379.8\" font-family=\"Helvetica,sans-Serif\" font-size=\"14.00\">samples = 17</text>\n<text text-anchor=\"middle\" x=\"375.5\" y=\"-364.8\" font-family=\"Helvetica,sans-Serif\" font-size=\"14.00\">value = [13, 4]</text>\n<text text-anchor=\"middle\" x=\"375.5\" y=\"-349.8\" font-family=\"Helvetica,sans-Serif\" font-size=\"14.00\">class = F</text>\n</g>\n<!-- 12&#45;&gt;13 -->\n<g id=\"edge13\" class=\"edge\">\n<title>12&#45;&gt;13</title>\n<path fill=\"none\" stroke=\"black\" d=\"M454.52,-460.91C444.95,-451.65 434.69,-441.73 424.84,-432.21\"/>\n<polygon fill=\"black\" stroke=\"black\" points=\"427.03,-429.46 417.41,-425.02 422.16,-434.49 427.03,-429.46\"/>\n</g>\n<!-- 20 -->\n<g id=\"node21\" class=\"node\">\n<title>20</title>\n<polygon fill=\"#399de5\" stroke=\"black\" points=\"545.5,-417.5 449.5,-417.5 449.5,-349.5 545.5,-349.5 545.5,-417.5\"/>\n<text text-anchor=\"middle\" x=\"497.5\" y=\"-402.3\" font-family=\"Helvetica,sans-Serif\" font-size=\"14.00\">entropy = 0.0</text>\n<text text-anchor=\"middle\" x=\"497.5\" y=\"-387.3\" font-family=\"Helvetica,sans-Serif\" font-size=\"14.00\">samples = 5</text>\n<text text-anchor=\"middle\" x=\"497.5\" y=\"-372.3\" font-family=\"Helvetica,sans-Serif\" font-size=\"14.00\">value = [0, 5]</text>\n<text text-anchor=\"middle\" x=\"497.5\" y=\"-357.3\" font-family=\"Helvetica,sans-Serif\" font-size=\"14.00\">class = P</text>\n</g>\n<!-- 12&#45;&gt;20 -->\n<g id=\"edge20\" class=\"edge\">\n<title>12&#45;&gt;20</title>\n<path fill=\"none\" stroke=\"black\" d=\"M496.85,-460.91C496.94,-450.2 497.04,-438.62 497.13,-427.78\"/>\n<polygon fill=\"black\" stroke=\"black\" points=\"500.63,-427.7 497.22,-417.67 493.63,-427.64 500.63,-427.7\"/>\n</g>\n<!-- 14 -->\n<g id=\"node15\" class=\"node\">\n<title>14</title>\n<polygon fill=\"#e58139\" stroke=\"black\" points=\"413.5,-298.5 317.5,-298.5 317.5,-230.5 413.5,-230.5 413.5,-298.5\"/>\n<text text-anchor=\"middle\" x=\"365.5\" y=\"-283.3\" font-family=\"Helvetica,sans-Serif\" font-size=\"14.00\">entropy = 0.0</text>\n<text text-anchor=\"middle\" x=\"365.5\" y=\"-268.3\" font-family=\"Helvetica,sans-Serif\" font-size=\"14.00\">samples = 4</text>\n<text text-anchor=\"middle\" x=\"365.5\" y=\"-253.3\" font-family=\"Helvetica,sans-Serif\" font-size=\"14.00\">value = [4, 0]</text>\n<text text-anchor=\"middle\" x=\"365.5\" y=\"-238.3\" font-family=\"Helvetica,sans-Serif\" font-size=\"14.00\">class = F</text>\n</g>\n<!-- 13&#45;&gt;14 -->\n<g id=\"edge14\" class=\"edge\">\n<title>13&#45;&gt;14</title>\n<path fill=\"none\" stroke=\"black\" d=\"M372.03,-341.91C371.12,-331.2 370.13,-319.62 369.2,-308.78\"/>\n<polygon fill=\"black\" stroke=\"black\" points=\"372.67,-308.33 368.33,-298.67 365.7,-308.93 372.67,-308.33\"/>\n</g>\n<!-- 15 -->\n<g id=\"node16\" class=\"node\">\n<title>15</title>\n<polygon fill=\"#f1b991\" stroke=\"black\" points=\"535.5,-306 431.5,-306 431.5,-223 535.5,-223 535.5,-306\"/>\n<text text-anchor=\"middle\" x=\"483.5\" y=\"-290.8\" font-family=\"Helvetica,sans-Serif\" font-size=\"14.00\">Q6 &lt;= 3.5</text>\n<text text-anchor=\"middle\" x=\"483.5\" y=\"-275.8\" font-family=\"Helvetica,sans-Serif\" font-size=\"14.00\">entropy = 0.89</text>\n<text text-anchor=\"middle\" x=\"483.5\" y=\"-260.8\" font-family=\"Helvetica,sans-Serif\" font-size=\"14.00\">samples = 13</text>\n<text text-anchor=\"middle\" x=\"483.5\" y=\"-245.8\" font-family=\"Helvetica,sans-Serif\" font-size=\"14.00\">value = [9, 4]</text>\n<text text-anchor=\"middle\" x=\"483.5\" y=\"-230.8\" font-family=\"Helvetica,sans-Serif\" font-size=\"14.00\">class = F</text>\n</g>\n<!-- 13&#45;&gt;15 -->\n<g id=\"edge15\" class=\"edge\">\n<title>13&#45;&gt;15</title>\n<path fill=\"none\" stroke=\"black\" d=\"M412.97,-341.91C421.43,-332.74 430.49,-322.93 439.2,-313.49\"/>\n<polygon fill=\"black\" stroke=\"black\" points=\"441.89,-315.74 446.1,-306.02 436.74,-310.99 441.89,-315.74\"/>\n</g>\n<!-- 16 -->\n<g id=\"node17\" class=\"node\">\n<title>16</title>\n<polygon fill=\"#9ccef2\" stroke=\"black\" points=\"415,-179.5 304,-179.5 304,-111.5 415,-111.5 415,-179.5\"/>\n<text text-anchor=\"middle\" x=\"359.5\" y=\"-164.3\" font-family=\"Helvetica,sans-Serif\" font-size=\"14.00\">entropy = 0.918</text>\n<text text-anchor=\"middle\" x=\"359.5\" y=\"-149.3\" font-family=\"Helvetica,sans-Serif\" font-size=\"14.00\">samples = 3</text>\n<text text-anchor=\"middle\" x=\"359.5\" y=\"-134.3\" font-family=\"Helvetica,sans-Serif\" font-size=\"14.00\">value = [1, 2]</text>\n<text text-anchor=\"middle\" x=\"359.5\" y=\"-119.3\" font-family=\"Helvetica,sans-Serif\" font-size=\"14.00\">class = P</text>\n</g>\n<!-- 15&#45;&gt;16 -->\n<g id=\"edge16\" class=\"edge\">\n<title>15&#45;&gt;16</title>\n<path fill=\"none\" stroke=\"black\" d=\"M440.48,-222.91C428.08,-211.21 414.57,-198.46 402.19,-186.78\"/>\n<polygon fill=\"black\" stroke=\"black\" points=\"404.33,-183.98 394.65,-179.67 399.52,-189.08 404.33,-183.98\"/>\n</g>\n<!-- 17 -->\n<g id=\"node18\" class=\"node\">\n<title>17</title>\n<polygon fill=\"#eca06a\" stroke=\"black\" points=\"544,-187 433,-187 433,-104 544,-104 544,-187\"/>\n<text text-anchor=\"middle\" x=\"488.5\" y=\"-171.8\" font-family=\"Helvetica,sans-Serif\" font-size=\"14.00\">Q6 &lt;= 5.5</text>\n<text text-anchor=\"middle\" x=\"488.5\" y=\"-156.8\" font-family=\"Helvetica,sans-Serif\" font-size=\"14.00\">entropy = 0.722</text>\n<text text-anchor=\"middle\" x=\"488.5\" y=\"-141.8\" font-family=\"Helvetica,sans-Serif\" font-size=\"14.00\">samples = 10</text>\n<text text-anchor=\"middle\" x=\"488.5\" y=\"-126.8\" font-family=\"Helvetica,sans-Serif\" font-size=\"14.00\">value = [8, 2]</text>\n<text text-anchor=\"middle\" x=\"488.5\" y=\"-111.8\" font-family=\"Helvetica,sans-Serif\" font-size=\"14.00\">class = F</text>\n</g>\n<!-- 15&#45;&gt;17 -->\n<g id=\"edge17\" class=\"edge\">\n<title>15&#45;&gt;17</title>\n<path fill=\"none\" stroke=\"black\" d=\"M485.23,-222.91C485.59,-214.56 485.97,-205.67 486.34,-197.02\"/>\n<polygon fill=\"black\" stroke=\"black\" points=\"489.84,-197.16 486.77,-187.02 482.84,-196.86 489.84,-197.16\"/>\n</g>\n<!-- 18 -->\n<g id=\"node19\" class=\"node\">\n<title>18</title>\n<polygon fill=\"#e58139\" stroke=\"black\" points=\"452.5,-68 356.5,-68 356.5,0 452.5,0 452.5,-68\"/>\n<text text-anchor=\"middle\" x=\"404.5\" y=\"-52.8\" font-family=\"Helvetica,sans-Serif\" font-size=\"14.00\">entropy = 0.0</text>\n<text text-anchor=\"middle\" x=\"404.5\" y=\"-37.8\" font-family=\"Helvetica,sans-Serif\" font-size=\"14.00\">samples = 7</text>\n<text text-anchor=\"middle\" x=\"404.5\" y=\"-22.8\" font-family=\"Helvetica,sans-Serif\" font-size=\"14.00\">value = [7, 0]</text>\n<text text-anchor=\"middle\" x=\"404.5\" y=\"-7.8\" font-family=\"Helvetica,sans-Serif\" font-size=\"14.00\">class = F</text>\n</g>\n<!-- 17&#45;&gt;18 -->\n<g id=\"edge18\" class=\"edge\">\n<title>17&#45;&gt;18</title>\n<path fill=\"none\" stroke=\"black\" d=\"M457.22,-103.73C450.36,-94.79 443.1,-85.32 436.22,-76.36\"/>\n<polygon fill=\"black\" stroke=\"black\" points=\"438.91,-74.1 430.04,-68.3 433.35,-78.36 438.91,-74.1\"/>\n</g>\n<!-- 19 -->\n<g id=\"node20\" class=\"node\">\n<title>19</title>\n<polygon fill=\"#9ccef2\" stroke=\"black\" points=\"582,-68 471,-68 471,0 582,0 582,-68\"/>\n<text text-anchor=\"middle\" x=\"526.5\" y=\"-52.8\" font-family=\"Helvetica,sans-Serif\" font-size=\"14.00\">entropy = 0.918</text>\n<text text-anchor=\"middle\" x=\"526.5\" y=\"-37.8\" font-family=\"Helvetica,sans-Serif\" font-size=\"14.00\">samples = 3</text>\n<text text-anchor=\"middle\" x=\"526.5\" y=\"-22.8\" font-family=\"Helvetica,sans-Serif\" font-size=\"14.00\">value = [1, 2]</text>\n<text text-anchor=\"middle\" x=\"526.5\" y=\"-7.8\" font-family=\"Helvetica,sans-Serif\" font-size=\"14.00\">class = P</text>\n</g>\n<!-- 17&#45;&gt;19 -->\n<g id=\"edge19\" class=\"edge\">\n<title>17&#45;&gt;19</title>\n<path fill=\"none\" stroke=\"black\" d=\"M502.65,-103.73C505.56,-95.34 508.64,-86.47 511.58,-78.01\"/>\n<polygon fill=\"black\" stroke=\"black\" points=\"514.97,-78.89 514.94,-68.3 508.36,-76.6 514.97,-78.89\"/>\n</g>\n<!-- 22 -->\n<g id=\"node23\" class=\"node\">\n<title>22</title>\n<polygon fill=\"#399de5\" stroke=\"black\" points=\"659.5,-417.5 563.5,-417.5 563.5,-349.5 659.5,-349.5 659.5,-417.5\"/>\n<text text-anchor=\"middle\" x=\"611.5\" y=\"-402.3\" font-family=\"Helvetica,sans-Serif\" font-size=\"14.00\">entropy = 0.0</text>\n<text text-anchor=\"middle\" x=\"611.5\" y=\"-387.3\" font-family=\"Helvetica,sans-Serif\" font-size=\"14.00\">samples = 6</text>\n<text text-anchor=\"middle\" x=\"611.5\" y=\"-372.3\" font-family=\"Helvetica,sans-Serif\" font-size=\"14.00\">value = [0, 6]</text>\n<text text-anchor=\"middle\" x=\"611.5\" y=\"-357.3\" font-family=\"Helvetica,sans-Serif\" font-size=\"14.00\">class = P</text>\n</g>\n<!-- 21&#45;&gt;22 -->\n<g id=\"edge22\" class=\"edge\">\n<title>21&#45;&gt;22</title>\n<path fill=\"none\" stroke=\"black\" d=\"M620.64,-460.91C619.36,-450.2 617.98,-438.62 616.68,-427.78\"/>\n<polygon fill=\"black\" stroke=\"black\" points=\"620.13,-427.18 615.47,-417.67 613.18,-428.01 620.13,-427.18\"/>\n</g>\n<!-- 23 -->\n<g id=\"node24\" class=\"node\">\n<title>23</title>\n<polygon fill=\"#aad5f4\" stroke=\"black\" points=\"789,-425 678,-425 678,-342 789,-342 789,-425\"/>\n<text text-anchor=\"middle\" x=\"733.5\" y=\"-409.8\" font-family=\"Helvetica,sans-Serif\" font-size=\"14.00\">Q4 &lt;= 1.5</text>\n<text text-anchor=\"middle\" x=\"733.5\" y=\"-394.8\" font-family=\"Helvetica,sans-Serif\" font-size=\"14.00\">entropy = 0.946</text>\n<text text-anchor=\"middle\" x=\"733.5\" y=\"-379.8\" font-family=\"Helvetica,sans-Serif\" font-size=\"14.00\">samples = 11</text>\n<text text-anchor=\"middle\" x=\"733.5\" y=\"-364.8\" font-family=\"Helvetica,sans-Serif\" font-size=\"14.00\">value = [4, 7]</text>\n<text text-anchor=\"middle\" x=\"733.5\" y=\"-349.8\" font-family=\"Helvetica,sans-Serif\" font-size=\"14.00\">class = P</text>\n</g>\n<!-- 21&#45;&gt;23 -->\n<g id=\"edge23\" class=\"edge\">\n<title>21&#45;&gt;23</title>\n<path fill=\"none\" stroke=\"black\" d=\"M662.97,-460.91C671.43,-451.74 680.49,-441.93 689.2,-432.49\"/>\n<polygon fill=\"black\" stroke=\"black\" points=\"691.89,-434.74 696.1,-425.02 686.74,-429.99 691.89,-434.74\"/>\n</g>\n<!-- 24 -->\n<g id=\"node25\" class=\"node\">\n<title>24</title>\n<polygon fill=\"#e58139\" stroke=\"black\" points=\"659.5,-298.5 563.5,-298.5 563.5,-230.5 659.5,-230.5 659.5,-298.5\"/>\n<text text-anchor=\"middle\" x=\"611.5\" y=\"-283.3\" font-family=\"Helvetica,sans-Serif\" font-size=\"14.00\">entropy = 0.0</text>\n<text text-anchor=\"middle\" x=\"611.5\" y=\"-268.3\" font-family=\"Helvetica,sans-Serif\" font-size=\"14.00\">samples = 3</text>\n<text text-anchor=\"middle\" x=\"611.5\" y=\"-253.3\" font-family=\"Helvetica,sans-Serif\" font-size=\"14.00\">value = [3, 0]</text>\n<text text-anchor=\"middle\" x=\"611.5\" y=\"-238.3\" font-family=\"Helvetica,sans-Serif\" font-size=\"14.00\">class = F</text>\n</g>\n<!-- 23&#45;&gt;24 -->\n<g id=\"edge24\" class=\"edge\">\n<title>23&#45;&gt;24</title>\n<path fill=\"none\" stroke=\"black\" d=\"M691.17,-341.91C678.98,-330.21 665.68,-317.46 653.5,-305.78\"/>\n<polygon fill=\"black\" stroke=\"black\" points=\"655.72,-303.06 646.08,-298.67 650.88,-308.11 655.72,-303.06\"/>\n</g>\n<!-- 25 -->\n<g id=\"node26\" class=\"node\">\n<title>25</title>\n<polygon fill=\"#55abe9\" stroke=\"black\" points=\"789,-306 678,-306 678,-223 789,-223 789,-306\"/>\n<text text-anchor=\"middle\" x=\"733.5\" y=\"-290.8\" font-family=\"Helvetica,sans-Serif\" font-size=\"14.00\">Q9 &lt;= 2.75</text>\n<text text-anchor=\"middle\" x=\"733.5\" y=\"-275.8\" font-family=\"Helvetica,sans-Serif\" font-size=\"14.00\">entropy = 0.544</text>\n<text text-anchor=\"middle\" x=\"733.5\" y=\"-260.8\" font-family=\"Helvetica,sans-Serif\" font-size=\"14.00\">samples = 8</text>\n<text text-anchor=\"middle\" x=\"733.5\" y=\"-245.8\" font-family=\"Helvetica,sans-Serif\" font-size=\"14.00\">value = [1, 7]</text>\n<text text-anchor=\"middle\" x=\"733.5\" y=\"-230.8\" font-family=\"Helvetica,sans-Serif\" font-size=\"14.00\">class = P</text>\n</g>\n<!-- 23&#45;&gt;25 -->\n<g id=\"edge25\" class=\"edge\">\n<title>23&#45;&gt;25</title>\n<path fill=\"none\" stroke=\"black\" d=\"M733.5,-341.91C733.5,-333.65 733.5,-324.86 733.5,-316.3\"/>\n<polygon fill=\"black\" stroke=\"black\" points=\"737,-316.02 733.5,-306.02 730,-316.02 737,-316.02\"/>\n</g>\n<!-- 26 -->\n<g id=\"node27\" class=\"node\">\n<title>26</title>\n<polygon fill=\"#ffffff\" stroke=\"black\" points=\"667.5,-179.5 571.5,-179.5 571.5,-111.5 667.5,-111.5 667.5,-179.5\"/>\n<text text-anchor=\"middle\" x=\"619.5\" y=\"-164.3\" font-family=\"Helvetica,sans-Serif\" font-size=\"14.00\">entropy = 1.0</text>\n<text text-anchor=\"middle\" x=\"619.5\" y=\"-149.3\" font-family=\"Helvetica,sans-Serif\" font-size=\"14.00\">samples = 2</text>\n<text text-anchor=\"middle\" x=\"619.5\" y=\"-134.3\" font-family=\"Helvetica,sans-Serif\" font-size=\"14.00\">value = [1, 1]</text>\n<text text-anchor=\"middle\" x=\"619.5\" y=\"-119.3\" font-family=\"Helvetica,sans-Serif\" font-size=\"14.00\">class = F</text>\n</g>\n<!-- 25&#45;&gt;26 -->\n<g id=\"edge26\" class=\"edge\">\n<title>25&#45;&gt;26</title>\n<path fill=\"none\" stroke=\"black\" d=\"M693.95,-222.91C682.66,-211.32 670.36,-198.7 659.07,-187.11\"/>\n<polygon fill=\"black\" stroke=\"black\" points=\"661.3,-184.39 651.82,-179.67 656.29,-189.27 661.3,-184.39\"/>\n</g>\n<!-- 27 -->\n<g id=\"node28\" class=\"node\">\n<title>27</title>\n<polygon fill=\"#399de5\" stroke=\"black\" points=\"781.5,-179.5 685.5,-179.5 685.5,-111.5 781.5,-111.5 781.5,-179.5\"/>\n<text text-anchor=\"middle\" x=\"733.5\" y=\"-164.3\" font-family=\"Helvetica,sans-Serif\" font-size=\"14.00\">entropy = 0.0</text>\n<text text-anchor=\"middle\" x=\"733.5\" y=\"-149.3\" font-family=\"Helvetica,sans-Serif\" font-size=\"14.00\">samples = 6</text>\n<text text-anchor=\"middle\" x=\"733.5\" y=\"-134.3\" font-family=\"Helvetica,sans-Serif\" font-size=\"14.00\">value = [0, 6]</text>\n<text text-anchor=\"middle\" x=\"733.5\" y=\"-119.3\" font-family=\"Helvetica,sans-Serif\" font-size=\"14.00\">class = P</text>\n</g>\n<!-- 25&#45;&gt;27 -->\n<g id=\"edge27\" class=\"edge\">\n<title>25&#45;&gt;27</title>\n<path fill=\"none\" stroke=\"black\" d=\"M733.5,-222.91C733.5,-212.2 733.5,-200.62 733.5,-189.78\"/>\n<polygon fill=\"black\" stroke=\"black\" points=\"737,-189.67 733.5,-179.67 730,-189.67 737,-189.67\"/>\n</g>\n<!-- 29 -->\n<g id=\"node30\" class=\"node\">\n<title>29</title>\n<polygon fill=\"#f0b78e\" stroke=\"black\" points=\"1029,-663 918,-663 918,-580 1029,-580 1029,-663\"/>\n<text text-anchor=\"middle\" x=\"973.5\" y=\"-647.8\" font-family=\"Helvetica,sans-Serif\" font-size=\"14.00\">Q5 &lt;= 0.5</text>\n<text text-anchor=\"middle\" x=\"973.5\" y=\"-632.8\" font-family=\"Helvetica,sans-Serif\" font-size=\"14.00\">entropy = 0.881</text>\n<text text-anchor=\"middle\" x=\"973.5\" y=\"-617.8\" font-family=\"Helvetica,sans-Serif\" font-size=\"14.00\">samples = 10</text>\n<text text-anchor=\"middle\" x=\"973.5\" y=\"-602.8\" font-family=\"Helvetica,sans-Serif\" font-size=\"14.00\">value = [7, 3]</text>\n<text text-anchor=\"middle\" x=\"973.5\" y=\"-587.8\" font-family=\"Helvetica,sans-Serif\" font-size=\"14.00\">class = F</text>\n</g>\n<!-- 28&#45;&gt;29 -->\n<g id=\"edge29\" class=\"edge\">\n<title>28&#45;&gt;29</title>\n<path fill=\"none\" stroke=\"black\" d=\"M973.5,-698.91C973.5,-690.65 973.5,-681.86 973.5,-673.3\"/>\n<polygon fill=\"black\" stroke=\"black\" points=\"977,-673.02 973.5,-663.02 970,-673.02 977,-673.02\"/>\n</g>\n<!-- 34 -->\n<g id=\"node35\" class=\"node\">\n<title>34</title>\n<polygon fill=\"#67b4eb\" stroke=\"black\" points=\"1372,-663 1255,-663 1255,-580 1372,-580 1372,-663\"/>\n<text text-anchor=\"middle\" x=\"1313.5\" y=\"-647.8\" font-family=\"Helvetica,sans-Serif\" font-size=\"14.00\">Q1 &lt;= 2.5</text>\n<text text-anchor=\"middle\" x=\"1313.5\" y=\"-632.8\" font-family=\"Helvetica,sans-Serif\" font-size=\"14.00\">entropy = 0.698</text>\n<text text-anchor=\"middle\" x=\"1313.5\" y=\"-617.8\" font-family=\"Helvetica,sans-Serif\" font-size=\"14.00\">samples = 138</text>\n<text text-anchor=\"middle\" x=\"1313.5\" y=\"-602.8\" font-family=\"Helvetica,sans-Serif\" font-size=\"14.00\">value = [26, 112]</text>\n<text text-anchor=\"middle\" x=\"1313.5\" y=\"-587.8\" font-family=\"Helvetica,sans-Serif\" font-size=\"14.00\">class = P</text>\n</g>\n<!-- 28&#45;&gt;34 -->\n<g id=\"edge34\" class=\"edge\">\n<title>28&#45;&gt;34</title>\n<path fill=\"none\" stroke=\"black\" d=\"M1032.34,-719.25C1091.51,-698.89 1182.69,-667.52 1245.06,-646.05\"/>\n<polygon fill=\"black\" stroke=\"black\" points=\"1246.5,-649.26 1254.82,-642.69 1244.22,-642.64 1246.5,-649.26\"/>\n</g>\n<!-- 30 -->\n<g id=\"node31\" class=\"node\">\n<title>30</title>\n<polygon fill=\"#399de5\" stroke=\"black\" points=\"960.5,-536.5 864.5,-536.5 864.5,-468.5 960.5,-468.5 960.5,-536.5\"/>\n<text text-anchor=\"middle\" x=\"912.5\" y=\"-521.3\" font-family=\"Helvetica,sans-Serif\" font-size=\"14.00\">entropy = 0.0</text>\n<text text-anchor=\"middle\" x=\"912.5\" y=\"-506.3\" font-family=\"Helvetica,sans-Serif\" font-size=\"14.00\">samples = 2</text>\n<text text-anchor=\"middle\" x=\"912.5\" y=\"-491.3\" font-family=\"Helvetica,sans-Serif\" font-size=\"14.00\">value = [0, 2]</text>\n<text text-anchor=\"middle\" x=\"912.5\" y=\"-476.3\" font-family=\"Helvetica,sans-Serif\" font-size=\"14.00\">class = P</text>\n</g>\n<!-- 29&#45;&gt;30 -->\n<g id=\"edge30\" class=\"edge\">\n<title>29&#45;&gt;30</title>\n<path fill=\"none\" stroke=\"black\" d=\"M952.34,-579.91C946.58,-568.87 940.34,-556.9 934.54,-545.77\"/>\n<polygon fill=\"black\" stroke=\"black\" points=\"937.52,-543.92 929.79,-536.67 931.31,-547.15 937.52,-543.92\"/>\n</g>\n<!-- 31 -->\n<g id=\"node32\" class=\"node\">\n<title>31</title>\n<polygon fill=\"#e99355\" stroke=\"black\" points=\"1090,-544 979,-544 979,-461 1090,-461 1090,-544\"/>\n<text text-anchor=\"middle\" x=\"1034.5\" y=\"-528.8\" font-family=\"Helvetica,sans-Serif\" font-size=\"14.00\">Q4 &lt;= 1.5</text>\n<text text-anchor=\"middle\" x=\"1034.5\" y=\"-513.8\" font-family=\"Helvetica,sans-Serif\" font-size=\"14.00\">entropy = 0.544</text>\n<text text-anchor=\"middle\" x=\"1034.5\" y=\"-498.8\" font-family=\"Helvetica,sans-Serif\" font-size=\"14.00\">samples = 8</text>\n<text text-anchor=\"middle\" x=\"1034.5\" y=\"-483.8\" font-family=\"Helvetica,sans-Serif\" font-size=\"14.00\">value = [7, 1]</text>\n<text text-anchor=\"middle\" x=\"1034.5\" y=\"-468.8\" font-family=\"Helvetica,sans-Serif\" font-size=\"14.00\">class = F</text>\n</g>\n<!-- 29&#45;&gt;31 -->\n<g id=\"edge31\" class=\"edge\">\n<title>29&#45;&gt;31</title>\n<path fill=\"none\" stroke=\"black\" d=\"M994.66,-579.91C999.21,-571.2 1004.05,-561.9 1008.75,-552.89\"/>\n<polygon fill=\"black\" stroke=\"black\" points=\"1011.85,-554.51 1013.37,-544.02 1005.65,-551.27 1011.85,-554.51\"/>\n</g>\n<!-- 32 -->\n<g id=\"node33\" class=\"node\">\n<title>32</title>\n<polygon fill=\"#e58139\" stroke=\"black\" points=\"1025.5,-417.5 929.5,-417.5 929.5,-349.5 1025.5,-349.5 1025.5,-417.5\"/>\n<text text-anchor=\"middle\" x=\"977.5\" y=\"-402.3\" font-family=\"Helvetica,sans-Serif\" font-size=\"14.00\">entropy = 0.0</text>\n<text text-anchor=\"middle\" x=\"977.5\" y=\"-387.3\" font-family=\"Helvetica,sans-Serif\" font-size=\"14.00\">samples = 6</text>\n<text text-anchor=\"middle\" x=\"977.5\" y=\"-372.3\" font-family=\"Helvetica,sans-Serif\" font-size=\"14.00\">value = [6, 0]</text>\n<text text-anchor=\"middle\" x=\"977.5\" y=\"-357.3\" font-family=\"Helvetica,sans-Serif\" font-size=\"14.00\">class = F</text>\n</g>\n<!-- 31&#45;&gt;32 -->\n<g id=\"edge32\" class=\"edge\">\n<title>31&#45;&gt;32</title>\n<path fill=\"none\" stroke=\"black\" d=\"M1014.72,-460.91C1009.35,-449.87 1003.51,-437.9 998.09,-426.77\"/>\n<polygon fill=\"black\" stroke=\"black\" points=\"1001.18,-425.12 993.66,-417.67 994.89,-428.19 1001.18,-425.12\"/>\n</g>\n<!-- 33 -->\n<g id=\"node34\" class=\"node\">\n<title>33</title>\n<polygon fill=\"#ffffff\" stroke=\"black\" points=\"1139.5,-417.5 1043.5,-417.5 1043.5,-349.5 1139.5,-349.5 1139.5,-417.5\"/>\n<text text-anchor=\"middle\" x=\"1091.5\" y=\"-402.3\" font-family=\"Helvetica,sans-Serif\" font-size=\"14.00\">entropy = 1.0</text>\n<text text-anchor=\"middle\" x=\"1091.5\" y=\"-387.3\" font-family=\"Helvetica,sans-Serif\" font-size=\"14.00\">samples = 2</text>\n<text text-anchor=\"middle\" x=\"1091.5\" y=\"-372.3\" font-family=\"Helvetica,sans-Serif\" font-size=\"14.00\">value = [1, 1]</text>\n<text text-anchor=\"middle\" x=\"1091.5\" y=\"-357.3\" font-family=\"Helvetica,sans-Serif\" font-size=\"14.00\">class = F</text>\n</g>\n<!-- 31&#45;&gt;33 -->\n<g id=\"edge33\" class=\"edge\">\n<title>31&#45;&gt;33</title>\n<path fill=\"none\" stroke=\"black\" d=\"M1054.28,-460.91C1059.65,-449.87 1065.49,-437.9 1070.91,-426.77\"/>\n<polygon fill=\"black\" stroke=\"black\" points=\"1074.11,-428.19 1075.34,-417.67 1067.82,-425.12 1074.11,-428.19\"/>\n</g>\n<!-- 35 -->\n<g id=\"node36\" class=\"node\">\n<title>35</title>\n<polygon fill=\"#87c3ef\" stroke=\"black\" points=\"1369,-544 1258,-544 1258,-461 1369,-461 1369,-544\"/>\n<text text-anchor=\"middle\" x=\"1313.5\" y=\"-528.8\" font-family=\"Helvetica,sans-Serif\" font-size=\"14.00\">Q8 &lt;= 8.25</text>\n<text text-anchor=\"middle\" x=\"1313.5\" y=\"-513.8\" font-family=\"Helvetica,sans-Serif\" font-size=\"14.00\">entropy = 0.858</text>\n<text text-anchor=\"middle\" x=\"1313.5\" y=\"-498.8\" font-family=\"Helvetica,sans-Serif\" font-size=\"14.00\">samples = 71</text>\n<text text-anchor=\"middle\" x=\"1313.5\" y=\"-483.8\" font-family=\"Helvetica,sans-Serif\" font-size=\"14.00\">value = [20, 51]</text>\n<text text-anchor=\"middle\" x=\"1313.5\" y=\"-468.8\" font-family=\"Helvetica,sans-Serif\" font-size=\"14.00\">class = P</text>\n</g>\n<!-- 34&#45;&gt;35 -->\n<g id=\"edge35\" class=\"edge\">\n<title>34&#45;&gt;35</title>\n<path fill=\"none\" stroke=\"black\" d=\"M1313.5,-579.91C1313.5,-571.65 1313.5,-562.86 1313.5,-554.3\"/>\n<polygon fill=\"black\" stroke=\"black\" points=\"1317,-554.02 1313.5,-544.02 1310,-554.02 1317,-554.02\"/>\n</g>\n<!-- 60 -->\n<g id=\"node61\" class=\"node\">\n<title>60</title>\n<polygon fill=\"#4ca7e8\" stroke=\"black\" points=\"1956,-544 1845,-544 1845,-461 1956,-461 1956,-544\"/>\n<text text-anchor=\"middle\" x=\"1900.5\" y=\"-528.8\" font-family=\"Helvetica,sans-Serif\" font-size=\"14.00\">Q5 &lt;= 5.5</text>\n<text text-anchor=\"middle\" x=\"1900.5\" y=\"-513.8\" font-family=\"Helvetica,sans-Serif\" font-size=\"14.00\">entropy = 0.435</text>\n<text text-anchor=\"middle\" x=\"1900.5\" y=\"-498.8\" font-family=\"Helvetica,sans-Serif\" font-size=\"14.00\">samples = 67</text>\n<text text-anchor=\"middle\" x=\"1900.5\" y=\"-483.8\" font-family=\"Helvetica,sans-Serif\" font-size=\"14.00\">value = [6, 61]</text>\n<text text-anchor=\"middle\" x=\"1900.5\" y=\"-468.8\" font-family=\"Helvetica,sans-Serif\" font-size=\"14.00\">class = P</text>\n</g>\n<!-- 34&#45;&gt;60 -->\n<g id=\"edge60\" class=\"edge\">\n<title>34&#45;&gt;60</title>\n<path fill=\"none\" stroke=\"black\" d=\"M1372.2,-608.8C1482.41,-586.83 1719.53,-539.57 1834.85,-516.59\"/>\n<polygon fill=\"black\" stroke=\"black\" points=\"1835.83,-519.96 1844.95,-514.57 1834.46,-513.09 1835.83,-519.96\"/>\n</g>\n<!-- 36 -->\n<g id=\"node37\" class=\"node\">\n<title>36</title>\n<polygon fill=\"#6fb8ec\" stroke=\"black\" points=\"1275.5,-425 1165.5,-425 1165.5,-342 1275.5,-342 1275.5,-425\"/>\n<text text-anchor=\"middle\" x=\"1220.5\" y=\"-409.8\" font-family=\"Helvetica,sans-Serif\" font-size=\"14.00\">Q9 &lt;= 4.05</text>\n<text text-anchor=\"middle\" x=\"1220.5\" y=\"-394.8\" font-family=\"Helvetica,sans-Serif\" font-size=\"14.00\">entropy = 0.75</text>\n<text text-anchor=\"middle\" x=\"1220.5\" y=\"-379.8\" font-family=\"Helvetica,sans-Serif\" font-size=\"14.00\">samples = 56</text>\n<text text-anchor=\"middle\" x=\"1220.5\" y=\"-364.8\" font-family=\"Helvetica,sans-Serif\" font-size=\"14.00\">value = [12, 44]</text>\n<text text-anchor=\"middle\" x=\"1220.5\" y=\"-349.8\" font-family=\"Helvetica,sans-Serif\" font-size=\"14.00\">class = P</text>\n</g>\n<!-- 35&#45;&gt;36 -->\n<g id=\"edge36\" class=\"edge\">\n<title>35&#45;&gt;36</title>\n<path fill=\"none\" stroke=\"black\" d=\"M1281.23,-460.91C1274.09,-451.92 1266.46,-442.32 1259.09,-433.05\"/>\n<polygon fill=\"black\" stroke=\"black\" points=\"1261.67,-430.67 1252.71,-425.02 1256.19,-435.03 1261.67,-430.67\"/>\n</g>\n<!-- 51 -->\n<g id=\"node52\" class=\"node\">\n<title>51</title>\n<polygon fill=\"#fcefe6\" stroke=\"black\" points=\"1537,-425 1426,-425 1426,-342 1537,-342 1537,-425\"/>\n<text text-anchor=\"middle\" x=\"1481.5\" y=\"-409.8\" font-family=\"Helvetica,sans-Serif\" font-size=\"14.00\">Q9 &lt;= 6.85</text>\n<text text-anchor=\"middle\" x=\"1481.5\" y=\"-394.8\" font-family=\"Helvetica,sans-Serif\" font-size=\"14.00\">entropy = 0.997</text>\n<text text-anchor=\"middle\" x=\"1481.5\" y=\"-379.8\" font-family=\"Helvetica,sans-Serif\" font-size=\"14.00\">samples = 15</text>\n<text text-anchor=\"middle\" x=\"1481.5\" y=\"-364.8\" font-family=\"Helvetica,sans-Serif\" font-size=\"14.00\">value = [8, 7]</text>\n<text text-anchor=\"middle\" x=\"1481.5\" y=\"-349.8\" font-family=\"Helvetica,sans-Serif\" font-size=\"14.00\">class = F</text>\n</g>\n<!-- 35&#45;&gt;51 -->\n<g id=\"edge51\" class=\"edge\">\n<title>35&#45;&gt;51</title>\n<path fill=\"none\" stroke=\"black\" d=\"M1369.44,-462.54C1384.74,-451.88 1401.45,-440.25 1417.18,-429.29\"/>\n<polygon fill=\"black\" stroke=\"black\" points=\"1419.6,-431.88 1425.8,-423.29 1415.6,-426.13 1419.6,-431.88\"/>\n</g>\n<!-- 37 -->\n<g id=\"node38\" class=\"node\">\n<title>37</title>\n<polygon fill=\"#ffffff\" stroke=\"black\" points=\"1086.5,-306 988.5,-306 988.5,-223 1086.5,-223 1086.5,-306\"/>\n<text text-anchor=\"middle\" x=\"1037.5\" y=\"-290.8\" font-family=\"Helvetica,sans-Serif\" font-size=\"14.00\">Q5 &lt;= 1.0</text>\n<text text-anchor=\"middle\" x=\"1037.5\" y=\"-275.8\" font-family=\"Helvetica,sans-Serif\" font-size=\"14.00\">entropy = 1.0</text>\n<text text-anchor=\"middle\" x=\"1037.5\" y=\"-260.8\" font-family=\"Helvetica,sans-Serif\" font-size=\"14.00\">samples = 10</text>\n<text text-anchor=\"middle\" x=\"1037.5\" y=\"-245.8\" font-family=\"Helvetica,sans-Serif\" font-size=\"14.00\">value = [5, 5]</text>\n<text text-anchor=\"middle\" x=\"1037.5\" y=\"-230.8\" font-family=\"Helvetica,sans-Serif\" font-size=\"14.00\">class = F</text>\n</g>\n<!-- 36&#45;&gt;37 -->\n<g id=\"edge37\" class=\"edge\">\n<title>36&#45;&gt;37</title>\n<path fill=\"none\" stroke=\"black\" d=\"M1165.1,-347.08C1142.99,-332.95 1117.54,-316.68 1095.22,-302.4\"/>\n<polygon fill=\"black\" stroke=\"black\" points=\"1096.82,-299.27 1086.5,-296.83 1093.04,-305.17 1096.82,-299.27\"/>\n</g>\n<!-- 44 -->\n<g id=\"node45\" class=\"node\">\n<title>44</title>\n<polygon fill=\"#5dafea\" stroke=\"black\" points=\"1276,-306 1165,-306 1165,-223 1276,-223 1276,-306\"/>\n<text text-anchor=\"middle\" x=\"1220.5\" y=\"-290.8\" font-family=\"Helvetica,sans-Serif\" font-size=\"14.00\">Q8 &lt;= 0.7</text>\n<text text-anchor=\"middle\" x=\"1220.5\" y=\"-275.8\" font-family=\"Helvetica,sans-Serif\" font-size=\"14.00\">entropy = 0.615</text>\n<text text-anchor=\"middle\" x=\"1220.5\" y=\"-260.8\" font-family=\"Helvetica,sans-Serif\" font-size=\"14.00\">samples = 46</text>\n<text text-anchor=\"middle\" x=\"1220.5\" y=\"-245.8\" font-family=\"Helvetica,sans-Serif\" font-size=\"14.00\">value = [7, 39]</text>\n<text text-anchor=\"middle\" x=\"1220.5\" y=\"-230.8\" font-family=\"Helvetica,sans-Serif\" font-size=\"14.00\">class = P</text>\n</g>\n<!-- 36&#45;&gt;44 -->\n<g id=\"edge44\" class=\"edge\">\n<title>36&#45;&gt;44</title>\n<path fill=\"none\" stroke=\"black\" d=\"M1220.5,-341.91C1220.5,-333.65 1220.5,-324.86 1220.5,-316.3\"/>\n<polygon fill=\"black\" stroke=\"black\" points=\"1224,-316.02 1220.5,-306.02 1217,-316.02 1224,-316.02\"/>\n</g>\n<!-- 38 -->\n<g id=\"node39\" class=\"node\">\n<title>38</title>\n<polygon fill=\"#7bbeee\" stroke=\"black\" points=\"911,-187 800,-187 800,-104 911,-104 911,-187\"/>\n<text text-anchor=\"middle\" x=\"855.5\" y=\"-171.8\" font-family=\"Helvetica,sans-Serif\" font-size=\"14.00\">Q8 &lt;= 4.65</text>\n<text text-anchor=\"middle\" x=\"855.5\" y=\"-156.8\" font-family=\"Helvetica,sans-Serif\" font-size=\"14.00\">entropy = 0.811</text>\n<text text-anchor=\"middle\" x=\"855.5\" y=\"-141.8\" font-family=\"Helvetica,sans-Serif\" font-size=\"14.00\">samples = 4</text>\n<text text-anchor=\"middle\" x=\"855.5\" y=\"-126.8\" font-family=\"Helvetica,sans-Serif\" font-size=\"14.00\">value = [1, 3]</text>\n<text text-anchor=\"middle\" x=\"855.5\" y=\"-111.8\" font-family=\"Helvetica,sans-Serif\" font-size=\"14.00\">class = P</text>\n</g>\n<!-- 37&#45;&gt;38 -->\n<g id=\"edge38\" class=\"edge\">\n<title>37&#45;&gt;38</title>\n<path fill=\"none\" stroke=\"black\" d=\"M988.25,-231.84C967.15,-218.28 942.23,-202.26 919.72,-187.78\"/>\n<polygon fill=\"black\" stroke=\"black\" points=\"921.52,-184.78 911.22,-182.32 917.74,-190.67 921.52,-184.78\"/>\n</g>\n<!-- 41 -->\n<g id=\"node42\" class=\"node\">\n<title>41</title>\n<polygon fill=\"#f2c09c\" stroke=\"black\" points=\"1093,-187 982,-187 982,-104 1093,-104 1093,-187\"/>\n<text text-anchor=\"middle\" x=\"1037.5\" y=\"-171.8\" font-family=\"Helvetica,sans-Serif\" font-size=\"14.00\">Q3 &lt;= 5.0</text>\n<text text-anchor=\"middle\" x=\"1037.5\" y=\"-156.8\" font-family=\"Helvetica,sans-Serif\" font-size=\"14.00\">entropy = 0.918</text>\n<text text-anchor=\"middle\" x=\"1037.5\" y=\"-141.8\" font-family=\"Helvetica,sans-Serif\" font-size=\"14.00\">samples = 6</text>\n<text text-anchor=\"middle\" x=\"1037.5\" y=\"-126.8\" font-family=\"Helvetica,sans-Serif\" font-size=\"14.00\">value = [4, 2]</text>\n<text text-anchor=\"middle\" x=\"1037.5\" y=\"-111.8\" font-family=\"Helvetica,sans-Serif\" font-size=\"14.00\">class = F</text>\n</g>\n<!-- 37&#45;&gt;41 -->\n<g id=\"edge41\" class=\"edge\">\n<title>37&#45;&gt;41</title>\n<path fill=\"none\" stroke=\"black\" d=\"M1037.5,-222.91C1037.5,-214.65 1037.5,-205.86 1037.5,-197.3\"/>\n<polygon fill=\"black\" stroke=\"black\" points=\"1041,-197.02 1037.5,-187.02 1034,-197.02 1041,-197.02\"/>\n</g>\n<!-- 39 -->\n<g id=\"node40\" class=\"node\">\n<title>39</title>\n<polygon fill=\"#399de5\" stroke=\"black\" points=\"762.5,-68 666.5,-68 666.5,0 762.5,0 762.5,-68\"/>\n<text text-anchor=\"middle\" x=\"714.5\" y=\"-52.8\" font-family=\"Helvetica,sans-Serif\" font-size=\"14.00\">entropy = 0.0</text>\n<text text-anchor=\"middle\" x=\"714.5\" y=\"-37.8\" font-family=\"Helvetica,sans-Serif\" font-size=\"14.00\">samples = 2</text>\n<text text-anchor=\"middle\" x=\"714.5\" y=\"-22.8\" font-family=\"Helvetica,sans-Serif\" font-size=\"14.00\">value = [0, 2]</text>\n<text text-anchor=\"middle\" x=\"714.5\" y=\"-7.8\" font-family=\"Helvetica,sans-Serif\" font-size=\"14.00\">class = P</text>\n</g>\n<!-- 38&#45;&gt;39 -->\n<g id=\"edge39\" class=\"edge\">\n<title>38&#45;&gt;39</title>\n<path fill=\"none\" stroke=\"black\" d=\"M803,-103.73C790.66,-94.15 777.55,-83.96 765.29,-74.44\"/>\n<polygon fill=\"black\" stroke=\"black\" points=\"767.42,-71.67 757.38,-68.3 763.13,-77.2 767.42,-71.67\"/>\n</g>\n<!-- 40 -->\n<g id=\"node41\" class=\"node\">\n<title>40</title>\n<polygon fill=\"#ffffff\" stroke=\"black\" points=\"876.5,-68 780.5,-68 780.5,0 876.5,0 876.5,-68\"/>\n<text text-anchor=\"middle\" x=\"828.5\" y=\"-52.8\" font-family=\"Helvetica,sans-Serif\" font-size=\"14.00\">entropy = 1.0</text>\n<text text-anchor=\"middle\" x=\"828.5\" y=\"-37.8\" font-family=\"Helvetica,sans-Serif\" font-size=\"14.00\">samples = 2</text>\n<text text-anchor=\"middle\" x=\"828.5\" y=\"-22.8\" font-family=\"Helvetica,sans-Serif\" font-size=\"14.00\">value = [1, 1]</text>\n<text text-anchor=\"middle\" x=\"828.5\" y=\"-7.8\" font-family=\"Helvetica,sans-Serif\" font-size=\"14.00\">class = F</text>\n</g>\n<!-- 38&#45;&gt;40 -->\n<g id=\"edge40\" class=\"edge\">\n<title>38&#45;&gt;40</title>\n<path fill=\"none\" stroke=\"black\" d=\"M845.45,-103.73C843.4,-95.43 841.24,-86.67 839.17,-78.28\"/>\n<polygon fill=\"black\" stroke=\"black\" points=\"842.5,-77.17 836.71,-68.3 835.71,-78.85 842.5,-77.17\"/>\n</g>\n<!-- 42 -->\n<g id=\"node43\" class=\"node\">\n<title>42</title>\n<polygon fill=\"#e58139\" stroke=\"black\" points=\"990.5,-68 894.5,-68 894.5,0 990.5,0 990.5,-68\"/>\n<text text-anchor=\"middle\" x=\"942.5\" y=\"-52.8\" font-family=\"Helvetica,sans-Serif\" font-size=\"14.00\">entropy = 0.0</text>\n<text text-anchor=\"middle\" x=\"942.5\" y=\"-37.8\" font-family=\"Helvetica,sans-Serif\" font-size=\"14.00\">samples = 3</text>\n<text text-anchor=\"middle\" x=\"942.5\" y=\"-22.8\" font-family=\"Helvetica,sans-Serif\" font-size=\"14.00\">value = [3, 0]</text>\n<text text-anchor=\"middle\" x=\"942.5\" y=\"-7.8\" font-family=\"Helvetica,sans-Serif\" font-size=\"14.00\">class = F</text>\n</g>\n<!-- 41&#45;&gt;42 -->\n<g id=\"edge42\" class=\"edge\">\n<title>41&#45;&gt;42</title>\n<path fill=\"none\" stroke=\"black\" d=\"M1002.13,-103.73C994.29,-94.7 985.99,-85.12 978.14,-76.08\"/>\n<polygon fill=\"black\" stroke=\"black\" points=\"980.59,-73.56 971.39,-68.3 975.3,-78.15 980.59,-73.56\"/>\n</g>\n<!-- 43 -->\n<g id=\"node44\" class=\"node\">\n<title>43</title>\n<polygon fill=\"#9ccef2\" stroke=\"black\" points=\"1120,-68 1009,-68 1009,0 1120,0 1120,-68\"/>\n<text text-anchor=\"middle\" x=\"1064.5\" y=\"-52.8\" font-family=\"Helvetica,sans-Serif\" font-size=\"14.00\">entropy = 0.918</text>\n<text text-anchor=\"middle\" x=\"1064.5\" y=\"-37.8\" font-family=\"Helvetica,sans-Serif\" font-size=\"14.00\">samples = 3</text>\n<text text-anchor=\"middle\" x=\"1064.5\" y=\"-22.8\" font-family=\"Helvetica,sans-Serif\" font-size=\"14.00\">value = [1, 2]</text>\n<text text-anchor=\"middle\" x=\"1064.5\" y=\"-7.8\" font-family=\"Helvetica,sans-Serif\" font-size=\"14.00\">class = P</text>\n</g>\n<!-- 41&#45;&gt;43 -->\n<g id=\"edge43\" class=\"edge\">\n<title>41&#45;&gt;43</title>\n<path fill=\"none\" stroke=\"black\" d=\"M1047.55,-103.73C1049.6,-95.43 1051.76,-86.67 1053.83,-78.28\"/>\n<polygon fill=\"black\" stroke=\"black\" points=\"1057.29,-78.85 1056.29,-68.3 1050.5,-77.17 1057.29,-78.85\"/>\n</g>\n<!-- 45 -->\n<g id=\"node46\" class=\"node\">\n<title>45</title>\n<polygon fill=\"#ffffff\" stroke=\"black\" points=\"1234.5,-187 1138.5,-187 1138.5,-104 1234.5,-104 1234.5,-187\"/>\n<text text-anchor=\"middle\" x=\"1186.5\" y=\"-171.8\" font-family=\"Helvetica,sans-Serif\" font-size=\"14.00\">Q4 &lt;= 1.5</text>\n<text text-anchor=\"middle\" x=\"1186.5\" y=\"-156.8\" font-family=\"Helvetica,sans-Serif\" font-size=\"14.00\">entropy = 1.0</text>\n<text text-anchor=\"middle\" x=\"1186.5\" y=\"-141.8\" font-family=\"Helvetica,sans-Serif\" font-size=\"14.00\">samples = 6</text>\n<text text-anchor=\"middle\" x=\"1186.5\" y=\"-126.8\" font-family=\"Helvetica,sans-Serif\" font-size=\"14.00\">value = [3, 3]</text>\n<text text-anchor=\"middle\" x=\"1186.5\" y=\"-111.8\" font-family=\"Helvetica,sans-Serif\" font-size=\"14.00\">class = F</text>\n</g>\n<!-- 44&#45;&gt;45 -->\n<g id=\"edge45\" class=\"edge\">\n<title>44&#45;&gt;45</title>\n<path fill=\"none\" stroke=\"black\" d=\"M1208.7,-222.91C1206.25,-214.47 1203.64,-205.48 1201.1,-196.74\"/>\n<polygon fill=\"black\" stroke=\"black\" points=\"1204.43,-195.65 1198.28,-187.02 1197.7,-197.6 1204.43,-195.65\"/>\n</g>\n<!-- 48 -->\n<g id=\"node49\" class=\"node\">\n<title>48</title>\n<polygon fill=\"#4fa8e8\" stroke=\"black\" points=\"1364,-187 1253,-187 1253,-104 1364,-104 1364,-187\"/>\n<text text-anchor=\"middle\" x=\"1308.5\" y=\"-171.8\" font-family=\"Helvetica,sans-Serif\" font-size=\"14.00\">Q2 &lt;= 8.05</text>\n<text text-anchor=\"middle\" x=\"1308.5\" y=\"-156.8\" font-family=\"Helvetica,sans-Serif\" font-size=\"14.00\">entropy = 0.469</text>\n<text text-anchor=\"middle\" x=\"1308.5\" y=\"-141.8\" font-family=\"Helvetica,sans-Serif\" font-size=\"14.00\">samples = 40</text>\n<text text-anchor=\"middle\" x=\"1308.5\" y=\"-126.8\" font-family=\"Helvetica,sans-Serif\" font-size=\"14.00\">value = [4, 36]</text>\n<text text-anchor=\"middle\" x=\"1308.5\" y=\"-111.8\" font-family=\"Helvetica,sans-Serif\" font-size=\"14.00\">class = P</text>\n</g>\n<!-- 44&#45;&gt;48 -->\n<g id=\"edge48\" class=\"edge\">\n<title>44&#45;&gt;48</title>\n<path fill=\"none\" stroke=\"black\" d=\"M1251.03,-222.91C1257.79,-213.92 1265.02,-204.32 1271.98,-195.05\"/>\n<polygon fill=\"black\" stroke=\"black\" points=\"1274.81,-197.12 1278.02,-187.02 1269.21,-192.91 1274.81,-197.12\"/>\n</g>\n<!-- 46 -->\n<g id=\"node47\" class=\"node\">\n<title>46</title>\n<polygon fill=\"#e58139\" stroke=\"black\" points=\"1234.5,-68 1138.5,-68 1138.5,0 1234.5,0 1234.5,-68\"/>\n<text text-anchor=\"middle\" x=\"1186.5\" y=\"-52.8\" font-family=\"Helvetica,sans-Serif\" font-size=\"14.00\">entropy = 0.0</text>\n<text text-anchor=\"middle\" x=\"1186.5\" y=\"-37.8\" font-family=\"Helvetica,sans-Serif\" font-size=\"14.00\">samples = 2</text>\n<text text-anchor=\"middle\" x=\"1186.5\" y=\"-22.8\" font-family=\"Helvetica,sans-Serif\" font-size=\"14.00\">value = [2, 0]</text>\n<text text-anchor=\"middle\" x=\"1186.5\" y=\"-7.8\" font-family=\"Helvetica,sans-Serif\" font-size=\"14.00\">class = F</text>\n</g>\n<!-- 45&#45;&gt;46 -->\n<g id=\"edge46\" class=\"edge\">\n<title>45&#45;&gt;46</title>\n<path fill=\"none\" stroke=\"black\" d=\"M1186.5,-103.73C1186.5,-95.52 1186.5,-86.86 1186.5,-78.56\"/>\n<polygon fill=\"black\" stroke=\"black\" points=\"1190,-78.3 1186.5,-68.3 1183,-78.3 1190,-78.3\"/>\n</g>\n<!-- 47 -->\n<g id=\"node48\" class=\"node\">\n<title>47</title>\n<polygon fill=\"#7bbeee\" stroke=\"black\" points=\"1364,-68 1253,-68 1253,0 1364,0 1364,-68\"/>\n<text text-anchor=\"middle\" x=\"1308.5\" y=\"-52.8\" font-family=\"Helvetica,sans-Serif\" font-size=\"14.00\">entropy = 0.811</text>\n<text text-anchor=\"middle\" x=\"1308.5\" y=\"-37.8\" font-family=\"Helvetica,sans-Serif\" font-size=\"14.00\">samples = 4</text>\n<text text-anchor=\"middle\" x=\"1308.5\" y=\"-22.8\" font-family=\"Helvetica,sans-Serif\" font-size=\"14.00\">value = [1, 3]</text>\n<text text-anchor=\"middle\" x=\"1308.5\" y=\"-7.8\" font-family=\"Helvetica,sans-Serif\" font-size=\"14.00\">class = P</text>\n</g>\n<!-- 45&#45;&gt;47 -->\n<g id=\"edge47\" class=\"edge\">\n<title>45&#45;&gt;47</title>\n<path fill=\"none\" stroke=\"black\" d=\"M1231.93,-103.73C1242.4,-94.33 1253.52,-84.35 1263.95,-74.99\"/>\n<polygon fill=\"black\" stroke=\"black\" points=\"1266.29,-77.58 1271.4,-68.3 1261.62,-72.37 1266.29,-77.58\"/>\n</g>\n<!-- 49 -->\n<g id=\"node50\" class=\"node\">\n<title>49</title>\n<polygon fill=\"#46a3e7\" stroke=\"black\" points=\"1486.5,-68 1382.5,-68 1382.5,0 1486.5,0 1486.5,-68\"/>\n<text text-anchor=\"middle\" x=\"1434.5\" y=\"-52.8\" font-family=\"Helvetica,sans-Serif\" font-size=\"14.00\">entropy = 0.33</text>\n<text text-anchor=\"middle\" x=\"1434.5\" y=\"-37.8\" font-family=\"Helvetica,sans-Serif\" font-size=\"14.00\">samples = 33</text>\n<text text-anchor=\"middle\" x=\"1434.5\" y=\"-22.8\" font-family=\"Helvetica,sans-Serif\" font-size=\"14.00\">value = [2, 31]</text>\n<text text-anchor=\"middle\" x=\"1434.5\" y=\"-7.8\" font-family=\"Helvetica,sans-Serif\" font-size=\"14.00\">class = P</text>\n</g>\n<!-- 48&#45;&gt;49 -->\n<g id=\"edge49\" class=\"edge\">\n<title>48&#45;&gt;49</title>\n<path fill=\"none\" stroke=\"black\" d=\"M1355.42,-103.73C1366.23,-94.33 1377.71,-84.35 1388.49,-74.99\"/>\n<polygon fill=\"black\" stroke=\"black\" points=\"1390.93,-77.5 1396.18,-68.3 1386.34,-72.22 1390.93,-77.5\"/>\n</g>\n<!-- 50 -->\n<g id=\"node51\" class=\"node\">\n<title>50</title>\n<polygon fill=\"#88c4ef\" stroke=\"black\" points=\"1616,-68 1505,-68 1505,0 1616,0 1616,-68\"/>\n<text text-anchor=\"middle\" x=\"1560.5\" y=\"-52.8\" font-family=\"Helvetica,sans-Serif\" font-size=\"14.00\">entropy = 0.863</text>\n<text text-anchor=\"middle\" x=\"1560.5\" y=\"-37.8\" font-family=\"Helvetica,sans-Serif\" font-size=\"14.00\">samples = 7</text>\n<text text-anchor=\"middle\" x=\"1560.5\" y=\"-22.8\" font-family=\"Helvetica,sans-Serif\" font-size=\"14.00\">value = [2, 5]</text>\n<text text-anchor=\"middle\" x=\"1560.5\" y=\"-7.8\" font-family=\"Helvetica,sans-Serif\" font-size=\"14.00\">class = P</text>\n</g>\n<!-- 48&#45;&gt;50 -->\n<g id=\"edge50\" class=\"edge\">\n<title>48&#45;&gt;50</title>\n<path fill=\"none\" stroke=\"black\" d=\"M1364.35,-108.41C1367.41,-106.84 1370.47,-105.36 1373.5,-104 1425.07,-80.84 1442.96,-88.88 1495.5,-68 1495.6,-67.96 1495.69,-67.92 1495.79,-67.89\"/>\n<polygon fill=\"black\" stroke=\"black\" points=\"1496.92,-71.21 1504.78,-64.1 1494.2,-64.75 1496.92,-71.21\"/>\n</g>\n<!-- 52 -->\n<g id=\"node53\" class=\"node\">\n<title>52</title>\n<polygon fill=\"#ea9a61\" stroke=\"black\" points=\"1533.5,-306 1429.5,-306 1429.5,-223 1533.5,-223 1533.5,-306\"/>\n<text text-anchor=\"middle\" x=\"1481.5\" y=\"-290.8\" font-family=\"Helvetica,sans-Serif\" font-size=\"14.00\">Q3 &lt;= 5.5</text>\n<text text-anchor=\"middle\" x=\"1481.5\" y=\"-275.8\" font-family=\"Helvetica,sans-Serif\" font-size=\"14.00\">entropy = 0.65</text>\n<text text-anchor=\"middle\" x=\"1481.5\" y=\"-260.8\" font-family=\"Helvetica,sans-Serif\" font-size=\"14.00\">samples = 6</text>\n<text text-anchor=\"middle\" x=\"1481.5\" y=\"-245.8\" font-family=\"Helvetica,sans-Serif\" font-size=\"14.00\">value = [5, 1]</text>\n<text text-anchor=\"middle\" x=\"1481.5\" y=\"-230.8\" font-family=\"Helvetica,sans-Serif\" font-size=\"14.00\">class = F</text>\n</g>\n<!-- 51&#45;&gt;52 -->\n<g id=\"edge52\" class=\"edge\">\n<title>51&#45;&gt;52</title>\n<path fill=\"none\" stroke=\"black\" d=\"M1481.5,-341.91C1481.5,-333.65 1481.5,-324.86 1481.5,-316.3\"/>\n<polygon fill=\"black\" stroke=\"black\" points=\"1485,-316.02 1481.5,-306.02 1478,-316.02 1485,-316.02\"/>\n</g>\n<!-- 55 -->\n<g id=\"node56\" class=\"node\">\n<title>55</title>\n<polygon fill=\"#9ccef2\" stroke=\"black\" points=\"1714,-306 1603,-306 1603,-223 1714,-223 1714,-306\"/>\n<text text-anchor=\"middle\" x=\"1658.5\" y=\"-290.8\" font-family=\"Helvetica,sans-Serif\" font-size=\"14.00\">Q4 &lt;= 5.5</text>\n<text text-anchor=\"middle\" x=\"1658.5\" y=\"-275.8\" font-family=\"Helvetica,sans-Serif\" font-size=\"14.00\">entropy = 0.918</text>\n<text text-anchor=\"middle\" x=\"1658.5\" y=\"-260.8\" font-family=\"Helvetica,sans-Serif\" font-size=\"14.00\">samples = 9</text>\n<text text-anchor=\"middle\" x=\"1658.5\" y=\"-245.8\" font-family=\"Helvetica,sans-Serif\" font-size=\"14.00\">value = [3, 6]</text>\n<text text-anchor=\"middle\" x=\"1658.5\" y=\"-230.8\" font-family=\"Helvetica,sans-Serif\" font-size=\"14.00\">class = P</text>\n</g>\n<!-- 51&#45;&gt;55 -->\n<g id=\"edge55\" class=\"edge\">\n<title>51&#45;&gt;55</title>\n<path fill=\"none\" stroke=\"black\" d=\"M1537.02,-345.8C1555.22,-333.77 1575.59,-320.31 1594.37,-307.89\"/>\n<polygon fill=\"black\" stroke=\"black\" points=\"1596.46,-310.7 1602.87,-302.27 1592.6,-304.86 1596.46,-310.7\"/>\n</g>\n<!-- 53 -->\n<g id=\"node54\" class=\"node\">\n<title>53</title>\n<polygon fill=\"#e58139\" stroke=\"black\" points=\"1478.5,-179.5 1382.5,-179.5 1382.5,-111.5 1478.5,-111.5 1478.5,-179.5\"/>\n<text text-anchor=\"middle\" x=\"1430.5\" y=\"-164.3\" font-family=\"Helvetica,sans-Serif\" font-size=\"14.00\">entropy = 0.0</text>\n<text text-anchor=\"middle\" x=\"1430.5\" y=\"-149.3\" font-family=\"Helvetica,sans-Serif\" font-size=\"14.00\">samples = 4</text>\n<text text-anchor=\"middle\" x=\"1430.5\" y=\"-134.3\" font-family=\"Helvetica,sans-Serif\" font-size=\"14.00\">value = [4, 0]</text>\n<text text-anchor=\"middle\" x=\"1430.5\" y=\"-119.3\" font-family=\"Helvetica,sans-Serif\" font-size=\"14.00\">class = F</text>\n</g>\n<!-- 52&#45;&gt;53 -->\n<g id=\"edge53\" class=\"edge\">\n<title>52&#45;&gt;53</title>\n<path fill=\"none\" stroke=\"black\" d=\"M1463.81,-222.91C1459.04,-211.98 1453.88,-200.14 1449.07,-189.11\"/>\n<polygon fill=\"black\" stroke=\"black\" points=\"1452.16,-187.44 1444.96,-179.67 1445.74,-190.23 1452.16,-187.44\"/>\n</g>\n<!-- 54 -->\n<g id=\"node55\" class=\"node\">\n<title>54</title>\n<polygon fill=\"#ffffff\" stroke=\"black\" points=\"1592.5,-179.5 1496.5,-179.5 1496.5,-111.5 1592.5,-111.5 1592.5,-179.5\"/>\n<text text-anchor=\"middle\" x=\"1544.5\" y=\"-164.3\" font-family=\"Helvetica,sans-Serif\" font-size=\"14.00\">entropy = 1.0</text>\n<text text-anchor=\"middle\" x=\"1544.5\" y=\"-149.3\" font-family=\"Helvetica,sans-Serif\" font-size=\"14.00\">samples = 2</text>\n<text text-anchor=\"middle\" x=\"1544.5\" y=\"-134.3\" font-family=\"Helvetica,sans-Serif\" font-size=\"14.00\">value = [1, 1]</text>\n<text text-anchor=\"middle\" x=\"1544.5\" y=\"-119.3\" font-family=\"Helvetica,sans-Serif\" font-size=\"14.00\">class = F</text>\n</g>\n<!-- 52&#45;&gt;54 -->\n<g id=\"edge54\" class=\"edge\">\n<title>52&#45;&gt;54</title>\n<path fill=\"none\" stroke=\"black\" d=\"M1503.36,-222.91C1509.3,-211.87 1515.75,-199.9 1521.74,-188.77\"/>\n<polygon fill=\"black\" stroke=\"black\" points=\"1524.98,-190.13 1526.64,-179.67 1518.82,-186.81 1524.98,-190.13\"/>\n</g>\n<!-- 56 -->\n<g id=\"node57\" class=\"node\">\n<title>56</title>\n<polygon fill=\"#399de5\" stroke=\"black\" points=\"1706.5,-179.5 1610.5,-179.5 1610.5,-111.5 1706.5,-111.5 1706.5,-179.5\"/>\n<text text-anchor=\"middle\" x=\"1658.5\" y=\"-164.3\" font-family=\"Helvetica,sans-Serif\" font-size=\"14.00\">entropy = 0.0</text>\n<text text-anchor=\"middle\" x=\"1658.5\" y=\"-149.3\" font-family=\"Helvetica,sans-Serif\" font-size=\"14.00\">samples = 5</text>\n<text text-anchor=\"middle\" x=\"1658.5\" y=\"-134.3\" font-family=\"Helvetica,sans-Serif\" font-size=\"14.00\">value = [0, 5]</text>\n<text text-anchor=\"middle\" x=\"1658.5\" y=\"-119.3\" font-family=\"Helvetica,sans-Serif\" font-size=\"14.00\">class = P</text>\n</g>\n<!-- 55&#45;&gt;56 -->\n<g id=\"edge56\" class=\"edge\">\n<title>55&#45;&gt;56</title>\n<path fill=\"none\" stroke=\"black\" d=\"M1658.5,-222.91C1658.5,-212.2 1658.5,-200.62 1658.5,-189.78\"/>\n<polygon fill=\"black\" stroke=\"black\" points=\"1662,-189.67 1658.5,-179.67 1655,-189.67 1662,-189.67\"/>\n</g>\n<!-- 57 -->\n<g id=\"node58\" class=\"node\">\n<title>57</title>\n<polygon fill=\"#eeab7b\" stroke=\"black\" points=\"1836,-187 1725,-187 1725,-104 1836,-104 1836,-187\"/>\n<text text-anchor=\"middle\" x=\"1780.5\" y=\"-171.8\" font-family=\"Helvetica,sans-Serif\" font-size=\"14.00\">Q6 &lt;= 9.5</text>\n<text text-anchor=\"middle\" x=\"1780.5\" y=\"-156.8\" font-family=\"Helvetica,sans-Serif\" font-size=\"14.00\">entropy = 0.811</text>\n<text text-anchor=\"middle\" x=\"1780.5\" y=\"-141.8\" font-family=\"Helvetica,sans-Serif\" font-size=\"14.00\">samples = 4</text>\n<text text-anchor=\"middle\" x=\"1780.5\" y=\"-126.8\" font-family=\"Helvetica,sans-Serif\" font-size=\"14.00\">value = [3, 1]</text>\n<text text-anchor=\"middle\" x=\"1780.5\" y=\"-111.8\" font-family=\"Helvetica,sans-Serif\" font-size=\"14.00\">class = F</text>\n</g>\n<!-- 55&#45;&gt;57 -->\n<g id=\"edge57\" class=\"edge\">\n<title>55&#45;&gt;57</title>\n<path fill=\"none\" stroke=\"black\" d=\"M1700.83,-222.91C1710.48,-213.65 1720.82,-203.73 1730.75,-194.21\"/>\n<polygon fill=\"black\" stroke=\"black\" points=\"1733.45,-196.47 1738.25,-187.02 1728.61,-191.42 1733.45,-196.47\"/>\n</g>\n<!-- 58 -->\n<g id=\"node59\" class=\"node\">\n<title>58</title>\n<polygon fill=\"#ffffff\" stroke=\"black\" points=\"1803.5,-68 1707.5,-68 1707.5,0 1803.5,0 1803.5,-68\"/>\n<text text-anchor=\"middle\" x=\"1755.5\" y=\"-52.8\" font-family=\"Helvetica,sans-Serif\" font-size=\"14.00\">entropy = 1.0</text>\n<text text-anchor=\"middle\" x=\"1755.5\" y=\"-37.8\" font-family=\"Helvetica,sans-Serif\" font-size=\"14.00\">samples = 2</text>\n<text text-anchor=\"middle\" x=\"1755.5\" y=\"-22.8\" font-family=\"Helvetica,sans-Serif\" font-size=\"14.00\">value = [1, 1]</text>\n<text text-anchor=\"middle\" x=\"1755.5\" y=\"-7.8\" font-family=\"Helvetica,sans-Serif\" font-size=\"14.00\">class = F</text>\n</g>\n<!-- 57&#45;&gt;58 -->\n<g id=\"edge58\" class=\"edge\">\n<title>57&#45;&gt;58</title>\n<path fill=\"none\" stroke=\"black\" d=\"M1771.19,-103.73C1769.3,-95.43 1767.3,-86.67 1765.38,-78.28\"/>\n<polygon fill=\"black\" stroke=\"black\" points=\"1768.74,-77.27 1763.1,-68.3 1761.92,-78.83 1768.74,-77.27\"/>\n</g>\n<!-- 59 -->\n<g id=\"node60\" class=\"node\">\n<title>59</title>\n<polygon fill=\"#e58139\" stroke=\"black\" points=\"1917.5,-68 1821.5,-68 1821.5,0 1917.5,0 1917.5,-68\"/>\n<text text-anchor=\"middle\" x=\"1869.5\" y=\"-52.8\" font-family=\"Helvetica,sans-Serif\" font-size=\"14.00\">entropy = 0.0</text>\n<text text-anchor=\"middle\" x=\"1869.5\" y=\"-37.8\" font-family=\"Helvetica,sans-Serif\" font-size=\"14.00\">samples = 2</text>\n<text text-anchor=\"middle\" x=\"1869.5\" y=\"-22.8\" font-family=\"Helvetica,sans-Serif\" font-size=\"14.00\">value = [2, 0]</text>\n<text text-anchor=\"middle\" x=\"1869.5\" y=\"-7.8\" font-family=\"Helvetica,sans-Serif\" font-size=\"14.00\">class = F</text>\n</g>\n<!-- 57&#45;&gt;59 -->\n<g id=\"edge59\" class=\"edge\">\n<title>57&#45;&gt;59</title>\n<path fill=\"none\" stroke=\"black\" d=\"M1813.64,-103.73C1820.98,-94.7 1828.76,-85.12 1836.11,-76.08\"/>\n<polygon fill=\"black\" stroke=\"black\" points=\"1838.84,-78.27 1842.43,-68.3 1833.41,-73.85 1838.84,-78.27\"/>\n</g>\n<!-- 61 -->\n<g id=\"node62\" class=\"node\">\n<title>61</title>\n<polygon fill=\"#3e9fe6\" stroke=\"black\" points=\"1956,-425 1845,-425 1845,-342 1956,-342 1956,-425\"/>\n<text text-anchor=\"middle\" x=\"1900.5\" y=\"-409.8\" font-family=\"Helvetica,sans-Serif\" font-size=\"14.00\">Q1 &lt;= 5.5</text>\n<text text-anchor=\"middle\" x=\"1900.5\" y=\"-394.8\" font-family=\"Helvetica,sans-Serif\" font-size=\"14.00\">entropy = 0.165</text>\n<text text-anchor=\"middle\" x=\"1900.5\" y=\"-379.8\" font-family=\"Helvetica,sans-Serif\" font-size=\"14.00\">samples = 41</text>\n<text text-anchor=\"middle\" x=\"1900.5\" y=\"-364.8\" font-family=\"Helvetica,sans-Serif\" font-size=\"14.00\">value = [1, 40]</text>\n<text text-anchor=\"middle\" x=\"1900.5\" y=\"-349.8\" font-family=\"Helvetica,sans-Serif\" font-size=\"14.00\">class = P</text>\n</g>\n<!-- 60&#45;&gt;61 -->\n<g id=\"edge61\" class=\"edge\">\n<title>60&#45;&gt;61</title>\n<path fill=\"none\" stroke=\"black\" d=\"M1900.5,-460.91C1900.5,-452.65 1900.5,-443.86 1900.5,-435.3\"/>\n<polygon fill=\"black\" stroke=\"black\" points=\"1904,-435.02 1900.5,-425.02 1897,-435.02 1904,-435.02\"/>\n</g>\n<!-- 66 -->\n<g id=\"node67\" class=\"node\">\n<title>66</title>\n<polygon fill=\"#68b4eb\" stroke=\"black\" points=\"2254,-425 2143,-425 2143,-342 2254,-342 2254,-425\"/>\n<text text-anchor=\"middle\" x=\"2198.5\" y=\"-409.8\" font-family=\"Helvetica,sans-Serif\" font-size=\"14.00\">Q8 &lt;= 8.25</text>\n<text text-anchor=\"middle\" x=\"2198.5\" y=\"-394.8\" font-family=\"Helvetica,sans-Serif\" font-size=\"14.00\">entropy = 0.706</text>\n<text text-anchor=\"middle\" x=\"2198.5\" y=\"-379.8\" font-family=\"Helvetica,sans-Serif\" font-size=\"14.00\">samples = 26</text>\n<text text-anchor=\"middle\" x=\"2198.5\" y=\"-364.8\" font-family=\"Helvetica,sans-Serif\" font-size=\"14.00\">value = [5, 21]</text>\n<text text-anchor=\"middle\" x=\"2198.5\" y=\"-349.8\" font-family=\"Helvetica,sans-Serif\" font-size=\"14.00\">class = P</text>\n</g>\n<!-- 60&#45;&gt;66 -->\n<g id=\"edge66\" class=\"edge\">\n<title>60&#45;&gt;66</title>\n<path fill=\"none\" stroke=\"black\" d=\"M1956.2,-479.63C2006.4,-459.92 2080.23,-430.94 2133.18,-410.14\"/>\n<polygon fill=\"black\" stroke=\"black\" points=\"2134.79,-413.27 2142.82,-406.36 2132.23,-406.76 2134.79,-413.27\"/>\n</g>\n<!-- 62 -->\n<g id=\"node63\" class=\"node\">\n<title>62</title>\n<polygon fill=\"#399de5\" stroke=\"black\" points=\"1888.5,-298.5 1786.5,-298.5 1786.5,-230.5 1888.5,-230.5 1888.5,-298.5\"/>\n<text text-anchor=\"middle\" x=\"1837.5\" y=\"-283.3\" font-family=\"Helvetica,sans-Serif\" font-size=\"14.00\">entropy = 0.0</text>\n<text text-anchor=\"middle\" x=\"1837.5\" y=\"-268.3\" font-family=\"Helvetica,sans-Serif\" font-size=\"14.00\">samples = 34</text>\n<text text-anchor=\"middle\" x=\"1837.5\" y=\"-253.3\" font-family=\"Helvetica,sans-Serif\" font-size=\"14.00\">value = [0, 34]</text>\n<text text-anchor=\"middle\" x=\"1837.5\" y=\"-238.3\" font-family=\"Helvetica,sans-Serif\" font-size=\"14.00\">class = P</text>\n</g>\n<!-- 61&#45;&gt;62 -->\n<g id=\"edge62\" class=\"edge\">\n<title>61&#45;&gt;62</title>\n<path fill=\"none\" stroke=\"black\" d=\"M1878.64,-341.91C1872.7,-330.87 1866.25,-318.9 1860.26,-307.77\"/>\n<polygon fill=\"black\" stroke=\"black\" points=\"1863.18,-305.81 1855.36,-298.67 1857.02,-309.13 1863.18,-305.81\"/>\n</g>\n<!-- 63 -->\n<g id=\"node64\" class=\"node\">\n<title>63</title>\n<polygon fill=\"#5aade9\" stroke=\"black\" points=\"2018,-306 1907,-306 1907,-223 2018,-223 2018,-306\"/>\n<text text-anchor=\"middle\" x=\"1962.5\" y=\"-290.8\" font-family=\"Helvetica,sans-Serif\" font-size=\"14.00\">Q5 &lt;= 3.0</text>\n<text text-anchor=\"middle\" x=\"1962.5\" y=\"-275.8\" font-family=\"Helvetica,sans-Serif\" font-size=\"14.00\">entropy = 0.592</text>\n<text text-anchor=\"middle\" x=\"1962.5\" y=\"-260.8\" font-family=\"Helvetica,sans-Serif\" font-size=\"14.00\">samples = 7</text>\n<text text-anchor=\"middle\" x=\"1962.5\" y=\"-245.8\" font-family=\"Helvetica,sans-Serif\" font-size=\"14.00\">value = [1, 6]</text>\n<text text-anchor=\"middle\" x=\"1962.5\" y=\"-230.8\" font-family=\"Helvetica,sans-Serif\" font-size=\"14.00\">class = P</text>\n</g>\n<!-- 61&#45;&gt;63 -->\n<g id=\"edge63\" class=\"edge\">\n<title>61&#45;&gt;63</title>\n<path fill=\"none\" stroke=\"black\" d=\"M1922.01,-341.91C1926.63,-333.2 1931.55,-323.9 1936.33,-314.89\"/>\n<polygon fill=\"black\" stroke=\"black\" points=\"1939.44,-316.5 1941.03,-306.02 1933.25,-313.22 1939.44,-316.5\"/>\n</g>\n<!-- 64 -->\n<g id=\"node65\" class=\"node\">\n<title>64</title>\n<polygon fill=\"#ffffff\" stroke=\"black\" points=\"1950.5,-179.5 1854.5,-179.5 1854.5,-111.5 1950.5,-111.5 1950.5,-179.5\"/>\n<text text-anchor=\"middle\" x=\"1902.5\" y=\"-164.3\" font-family=\"Helvetica,sans-Serif\" font-size=\"14.00\">entropy = 1.0</text>\n<text text-anchor=\"middle\" x=\"1902.5\" y=\"-149.3\" font-family=\"Helvetica,sans-Serif\" font-size=\"14.00\">samples = 2</text>\n<text text-anchor=\"middle\" x=\"1902.5\" y=\"-134.3\" font-family=\"Helvetica,sans-Serif\" font-size=\"14.00\">value = [1, 1]</text>\n<text text-anchor=\"middle\" x=\"1902.5\" y=\"-119.3\" font-family=\"Helvetica,sans-Serif\" font-size=\"14.00\">class = F</text>\n</g>\n<!-- 63&#45;&gt;64 -->\n<g id=\"edge64\" class=\"edge\">\n<title>63&#45;&gt;64</title>\n<path fill=\"none\" stroke=\"black\" d=\"M1941.68,-222.91C1936.02,-211.87 1929.88,-199.9 1924.18,-188.77\"/>\n<polygon fill=\"black\" stroke=\"black\" points=\"1927.19,-186.97 1919.51,-179.67 1920.96,-190.16 1927.19,-186.97\"/>\n</g>\n<!-- 65 -->\n<g id=\"node66\" class=\"node\">\n<title>65</title>\n<polygon fill=\"#399de5\" stroke=\"black\" points=\"2064.5,-179.5 1968.5,-179.5 1968.5,-111.5 2064.5,-111.5 2064.5,-179.5\"/>\n<text text-anchor=\"middle\" x=\"2016.5\" y=\"-164.3\" font-family=\"Helvetica,sans-Serif\" font-size=\"14.00\">entropy = 0.0</text>\n<text text-anchor=\"middle\" x=\"2016.5\" y=\"-149.3\" font-family=\"Helvetica,sans-Serif\" font-size=\"14.00\">samples = 5</text>\n<text text-anchor=\"middle\" x=\"2016.5\" y=\"-134.3\" font-family=\"Helvetica,sans-Serif\" font-size=\"14.00\">value = [0, 5]</text>\n<text text-anchor=\"middle\" x=\"2016.5\" y=\"-119.3\" font-family=\"Helvetica,sans-Serif\" font-size=\"14.00\">class = P</text>\n</g>\n<!-- 63&#45;&gt;65 -->\n<g id=\"edge65\" class=\"edge\">\n<title>63&#45;&gt;65</title>\n<path fill=\"none\" stroke=\"black\" d=\"M1981.24,-222.91C1986.33,-211.87 1991.85,-199.9 1996.99,-188.77\"/>\n<polygon fill=\"black\" stroke=\"black\" points=\"2000.18,-190.21 2001.19,-179.67 1993.82,-187.28 2000.18,-190.21\"/>\n</g>\n<!-- 67 -->\n<g id=\"node68\" class=\"node\">\n<title>67</title>\n<polygon fill=\"#4ea7e8\" stroke=\"black\" points=\"2254,-306 2143,-306 2143,-223 2254,-223 2254,-306\"/>\n<text text-anchor=\"middle\" x=\"2198.5\" y=\"-290.8\" font-family=\"Helvetica,sans-Serif\" font-size=\"14.00\">Q4 &lt;= 2.5</text>\n<text text-anchor=\"middle\" x=\"2198.5\" y=\"-275.8\" font-family=\"Helvetica,sans-Serif\" font-size=\"14.00\">entropy = 0.454</text>\n<text text-anchor=\"middle\" x=\"2198.5\" y=\"-260.8\" font-family=\"Helvetica,sans-Serif\" font-size=\"14.00\">samples = 21</text>\n<text text-anchor=\"middle\" x=\"2198.5\" y=\"-245.8\" font-family=\"Helvetica,sans-Serif\" font-size=\"14.00\">value = [2, 19]</text>\n<text text-anchor=\"middle\" x=\"2198.5\" y=\"-230.8\" font-family=\"Helvetica,sans-Serif\" font-size=\"14.00\">class = P</text>\n</g>\n<!-- 66&#45;&gt;67 -->\n<g id=\"edge67\" class=\"edge\">\n<title>66&#45;&gt;67</title>\n<path fill=\"none\" stroke=\"black\" d=\"M2198.5,-341.91C2198.5,-333.65 2198.5,-324.86 2198.5,-316.3\"/>\n<polygon fill=\"black\" stroke=\"black\" points=\"2202,-316.02 2198.5,-306.02 2195,-316.02 2202,-316.02\"/>\n</g>\n<!-- 72 -->\n<g id=\"node73\" class=\"node\">\n<title>72</title>\n<polygon fill=\"#f6d5bd\" stroke=\"black\" points=\"2436,-306 2325,-306 2325,-223 2436,-223 2436,-306\"/>\n<text text-anchor=\"middle\" x=\"2380.5\" y=\"-290.8\" font-family=\"Helvetica,sans-Serif\" font-size=\"14.00\">Q5 &lt;= 7.5</text>\n<text text-anchor=\"middle\" x=\"2380.5\" y=\"-275.8\" font-family=\"Helvetica,sans-Serif\" font-size=\"14.00\">entropy = 0.971</text>\n<text text-anchor=\"middle\" x=\"2380.5\" y=\"-260.8\" font-family=\"Helvetica,sans-Serif\" font-size=\"14.00\">samples = 5</text>\n<text text-anchor=\"middle\" x=\"2380.5\" y=\"-245.8\" font-family=\"Helvetica,sans-Serif\" font-size=\"14.00\">value = [3, 2]</text>\n<text text-anchor=\"middle\" x=\"2380.5\" y=\"-230.8\" font-family=\"Helvetica,sans-Serif\" font-size=\"14.00\">class = F</text>\n</g>\n<!-- 66&#45;&gt;72 -->\n<g id=\"edge72\" class=\"edge\">\n<title>66&#45;&gt;72</title>\n<path fill=\"none\" stroke=\"black\" d=\"M2254.09,-346.76C2273.76,-334.12 2296.04,-319.8 2316.36,-306.73\"/>\n<polygon fill=\"black\" stroke=\"black\" points=\"2318.41,-309.57 2324.93,-301.22 2314.63,-303.69 2318.41,-309.57\"/>\n</g>\n<!-- 68 -->\n<g id=\"node69\" class=\"node\">\n<title>68</title>\n<polygon fill=\"#88c4ef\" stroke=\"black\" points=\"2194,-187 2083,-187 2083,-104 2194,-104 2194,-187\"/>\n<text text-anchor=\"middle\" x=\"2138.5\" y=\"-171.8\" font-family=\"Helvetica,sans-Serif\" font-size=\"14.00\">Q9 &lt;= 8.2</text>\n<text text-anchor=\"middle\" x=\"2138.5\" y=\"-156.8\" font-family=\"Helvetica,sans-Serif\" font-size=\"14.00\">entropy = 0.863</text>\n<text text-anchor=\"middle\" x=\"2138.5\" y=\"-141.8\" font-family=\"Helvetica,sans-Serif\" font-size=\"14.00\">samples = 7</text>\n<text text-anchor=\"middle\" x=\"2138.5\" y=\"-126.8\" font-family=\"Helvetica,sans-Serif\" font-size=\"14.00\">value = [2, 5]</text>\n<text text-anchor=\"middle\" x=\"2138.5\" y=\"-111.8\" font-family=\"Helvetica,sans-Serif\" font-size=\"14.00\">class = P</text>\n</g>\n<!-- 67&#45;&gt;68 -->\n<g id=\"edge68\" class=\"edge\">\n<title>67&#45;&gt;68</title>\n<path fill=\"none\" stroke=\"black\" d=\"M2177.68,-222.91C2173.26,-214.29 2168.55,-205.09 2163.97,-196.17\"/>\n<polygon fill=\"black\" stroke=\"black\" points=\"2166.96,-194.32 2159.28,-187.02 2160.73,-197.52 2166.96,-194.32\"/>\n</g>\n<!-- 71 -->\n<g id=\"node72\" class=\"node\">\n<title>71</title>\n<polygon fill=\"#399de5\" stroke=\"black\" points=\"2314.5,-179.5 2212.5,-179.5 2212.5,-111.5 2314.5,-111.5 2314.5,-179.5\"/>\n<text text-anchor=\"middle\" x=\"2263.5\" y=\"-164.3\" font-family=\"Helvetica,sans-Serif\" font-size=\"14.00\">entropy = 0.0</text>\n<text text-anchor=\"middle\" x=\"2263.5\" y=\"-149.3\" font-family=\"Helvetica,sans-Serif\" font-size=\"14.00\">samples = 14</text>\n<text text-anchor=\"middle\" x=\"2263.5\" y=\"-134.3\" font-family=\"Helvetica,sans-Serif\" font-size=\"14.00\">value = [0, 14]</text>\n<text text-anchor=\"middle\" x=\"2263.5\" y=\"-119.3\" font-family=\"Helvetica,sans-Serif\" font-size=\"14.00\">class = P</text>\n</g>\n<!-- 67&#45;&gt;71 -->\n<g id=\"edge71\" class=\"edge\">\n<title>67&#45;&gt;71</title>\n<path fill=\"none\" stroke=\"black\" d=\"M2221.05,-222.91C2227.24,-211.76 2233.97,-199.66 2240.2,-188.44\"/>\n<polygon fill=\"black\" stroke=\"black\" points=\"2243.28,-190.11 2245.07,-179.67 2237.16,-186.71 2243.28,-190.11\"/>\n</g>\n<!-- 69 -->\n<g id=\"node70\" class=\"node\">\n<title>69</title>\n<polygon fill=\"#f2c09c\" stroke=\"black\" points=\"2096,-68 1985,-68 1985,0 2096,0 2096,-68\"/>\n<text text-anchor=\"middle\" x=\"2040.5\" y=\"-52.8\" font-family=\"Helvetica,sans-Serif\" font-size=\"14.00\">entropy = 0.918</text>\n<text text-anchor=\"middle\" x=\"2040.5\" y=\"-37.8\" font-family=\"Helvetica,sans-Serif\" font-size=\"14.00\">samples = 3</text>\n<text text-anchor=\"middle\" x=\"2040.5\" y=\"-22.8\" font-family=\"Helvetica,sans-Serif\" font-size=\"14.00\">value = [2, 1]</text>\n<text text-anchor=\"middle\" x=\"2040.5\" y=\"-7.8\" font-family=\"Helvetica,sans-Serif\" font-size=\"14.00\">class = F</text>\n</g>\n<!-- 68&#45;&gt;69 -->\n<g id=\"edge69\" class=\"edge\">\n<title>68&#45;&gt;69</title>\n<path fill=\"none\" stroke=\"black\" d=\"M2102.01,-103.73C2093.85,-94.61 2085.19,-84.93 2077.02,-75.81\"/>\n<polygon fill=\"black\" stroke=\"black\" points=\"2079.58,-73.42 2070.3,-68.3 2074.36,-78.09 2079.58,-73.42\"/>\n</g>\n<!-- 70 -->\n<g id=\"node71\" class=\"node\">\n<title>70</title>\n<polygon fill=\"#399de5\" stroke=\"black\" points=\"2210.5,-68 2114.5,-68 2114.5,0 2210.5,0 2210.5,-68\"/>\n<text text-anchor=\"middle\" x=\"2162.5\" y=\"-52.8\" font-family=\"Helvetica,sans-Serif\" font-size=\"14.00\">entropy = 0.0</text>\n<text text-anchor=\"middle\" x=\"2162.5\" y=\"-37.8\" font-family=\"Helvetica,sans-Serif\" font-size=\"14.00\">samples = 4</text>\n<text text-anchor=\"middle\" x=\"2162.5\" y=\"-22.8\" font-family=\"Helvetica,sans-Serif\" font-size=\"14.00\">value = [0, 4]</text>\n<text text-anchor=\"middle\" x=\"2162.5\" y=\"-7.8\" font-family=\"Helvetica,sans-Serif\" font-size=\"14.00\">class = P</text>\n</g>\n<!-- 68&#45;&gt;70 -->\n<g id=\"edge70\" class=\"edge\">\n<title>68&#45;&gt;70</title>\n<path fill=\"none\" stroke=\"black\" d=\"M2147.44,-103.73C2149.26,-95.43 2151.18,-86.67 2153.01,-78.28\"/>\n<polygon fill=\"black\" stroke=\"black\" points=\"2156.48,-78.82 2155.2,-68.3 2149.64,-77.32 2156.48,-78.82\"/>\n</g>\n<!-- 73 -->\n<g id=\"node74\" class=\"node\">\n<title>73</title>\n<polygon fill=\"#e58139\" stroke=\"black\" points=\"2428.5,-179.5 2332.5,-179.5 2332.5,-111.5 2428.5,-111.5 2428.5,-179.5\"/>\n<text text-anchor=\"middle\" x=\"2380.5\" y=\"-164.3\" font-family=\"Helvetica,sans-Serif\" font-size=\"14.00\">entropy = 0.0</text>\n<text text-anchor=\"middle\" x=\"2380.5\" y=\"-149.3\" font-family=\"Helvetica,sans-Serif\" font-size=\"14.00\">samples = 3</text>\n<text text-anchor=\"middle\" x=\"2380.5\" y=\"-134.3\" font-family=\"Helvetica,sans-Serif\" font-size=\"14.00\">value = [3, 0]</text>\n<text text-anchor=\"middle\" x=\"2380.5\" y=\"-119.3\" font-family=\"Helvetica,sans-Serif\" font-size=\"14.00\">class = F</text>\n</g>\n<!-- 72&#45;&gt;73 -->\n<g id=\"edge73\" class=\"edge\">\n<title>72&#45;&gt;73</title>\n<path fill=\"none\" stroke=\"black\" d=\"M2380.5,-222.91C2380.5,-212.2 2380.5,-200.62 2380.5,-189.78\"/>\n<polygon fill=\"black\" stroke=\"black\" points=\"2384,-189.67 2380.5,-179.67 2377,-189.67 2384,-189.67\"/>\n</g>\n<!-- 74 -->\n<g id=\"node75\" class=\"node\">\n<title>74</title>\n<polygon fill=\"#399de5\" stroke=\"black\" points=\"2542.5,-179.5 2446.5,-179.5 2446.5,-111.5 2542.5,-111.5 2542.5,-179.5\"/>\n<text text-anchor=\"middle\" x=\"2494.5\" y=\"-164.3\" font-family=\"Helvetica,sans-Serif\" font-size=\"14.00\">entropy = 0.0</text>\n<text text-anchor=\"middle\" x=\"2494.5\" y=\"-149.3\" font-family=\"Helvetica,sans-Serif\" font-size=\"14.00\">samples = 2</text>\n<text text-anchor=\"middle\" x=\"2494.5\" y=\"-134.3\" font-family=\"Helvetica,sans-Serif\" font-size=\"14.00\">value = [0, 2]</text>\n<text text-anchor=\"middle\" x=\"2494.5\" y=\"-119.3\" font-family=\"Helvetica,sans-Serif\" font-size=\"14.00\">class = P</text>\n</g>\n<!-- 72&#45;&gt;74 -->\n<g id=\"edge74\" class=\"edge\">\n<title>72&#45;&gt;74</title>\n<path fill=\"none\" stroke=\"black\" d=\"M2420.05,-222.91C2431.34,-211.32 2443.64,-198.7 2454.93,-187.11\"/>\n<polygon fill=\"black\" stroke=\"black\" points=\"2457.71,-189.27 2462.18,-179.67 2452.7,-184.39 2457.71,-189.27\"/>\n</g>\n</g>\n</svg>\n",
            "text/plain": [
              "<graphviz.sources.Source at 0x7a7d823bca00>"
            ]
          },
          "metadata": {},
          "execution_count": 42
        }
      ]
    }
  ],
  "metadata": {
    "colab": {
      "provenance": []
    },
    "kernelspec": {
      "display_name": "Python 3",
      "name": "python3"
    },
    "language_info": {
      "name": "python"
    }
  },
  "nbformat": 4,
  "nbformat_minor": 0
}